{
 "cells": [
  {
   "cell_type": "markdown",
   "metadata": {},
   "source": [
    "## Classes\n",
    "\n",
    "- General behaviour of a category\n",
    "- Blueprint- Set of instructions\n",
    "- Model real world objects"
   ]
  },
  {
   "cell_type": "code",
   "execution_count": 55,
   "metadata": {},
   "outputs": [],
   "source": [
    "#Creating and using a class\n",
    "\n",
    "class Computer():\n",
    "    '''A Class to model a Computer'''\n",
    "    \n",
    "    brand = 'HP'   #Class variable\n",
    "    \n",
    "    def __init__(self, name, ram, storage):      #special method, dunder methods, magic methods\n",
    "                                                  # __init__ is implictly called/ Constructor\n",
    "        self.name = name\n",
    "        self.ram = ram\n",
    "        self.storage = storage\n",
    "        \n",
    "    def compute(self):\n",
    "        print(\"Computer is processing\")\n",
    "        \n",
    "    def run_program(self):\n",
    "        print(\"Program executed\")\n",
    "        \n",
    "    def __str__(self):\n",
    "        \n",
    "        return '''A Class to model a Computer'''\n",
    "    \n",
    "    def __len__(self):\n",
    "        \n",
    "        return self.storage\n",
    "        \n",
    "    "
   ]
  },
  {
   "cell_type": "code",
   "execution_count": 29,
   "metadata": {},
   "outputs": [],
   "source": [
    "#Instantiation\n",
    "\n",
    "com1 = Computer('Dell', '8GB','1TB')  #instance/object"
   ]
  },
  {
   "cell_type": "markdown",
   "metadata": {},
   "source": [
    "## self keyword\n",
    "\n",
    "- identify attributes and methods\n",
    "- Gives individual instances access to the attributes and methods in the class"
   ]
  },
  {
   "cell_type": "code",
   "execution_count": 30,
   "metadata": {},
   "outputs": [
    {
     "name": "stdout",
     "output_type": "stream",
     "text": [
      "Computer is processing\n"
     ]
    },
    {
     "data": {
      "text/plain": [
       "'HP'"
      ]
     },
     "execution_count": 30,
     "metadata": {},
     "output_type": "execute_result"
    }
   ],
   "source": [
    "#Acces attributes and methods of an object\n",
    "com1.compute()\n",
    "\n",
    "com1.name\n",
    "\n",
    "com1.brand"
   ]
  },
  {
   "cell_type": "code",
   "execution_count": 31,
   "metadata": {},
   "outputs": [
    {
     "data": {
      "text/plain": [
       "'HP'"
      ]
     },
     "execution_count": 31,
     "metadata": {},
     "output_type": "execute_result"
    }
   ],
   "source": [
    "#Instatiate Multiple objects\n",
    "\n",
    "com2 = Computer('hp','4GB', '500GB')\n",
    "\n",
    "com3 = Computer('hp','8GB', '1TB')\n",
    "\n",
    "com2.brand"
   ]
  },
  {
   "cell_type": "markdown",
   "metadata": {},
   "source": [
    "## Special methods"
   ]
  },
  {
   "cell_type": "code",
   "execution_count": 32,
   "metadata": {},
   "outputs": [
    {
     "name": "stdout",
     "output_type": "stream",
     "text": [
      "5\n"
     ]
    }
   ],
   "source": [
    "print(2+3)"
   ]
  },
  {
   "cell_type": "code",
   "execution_count": 33,
   "metadata": {},
   "outputs": [
    {
     "name": "stdout",
     "output_type": "stream",
     "text": [
      "5\n"
     ]
    }
   ],
   "source": [
    "print(int.__add__(2,3))"
   ]
  },
  {
   "cell_type": "code",
   "execution_count": 34,
   "metadata": {},
   "outputs": [
    {
     "name": "stdout",
     "output_type": "stream",
     "text": [
      "ab\n"
     ]
    }
   ],
   "source": [
    "print('a' + 'b')  #Operator overloading"
   ]
  },
  {
   "cell_type": "code",
   "execution_count": 37,
   "metadata": {},
   "outputs": [
    {
     "name": "stdout",
     "output_type": "stream",
     "text": [
      "ab\n"
     ]
    }
   ],
   "source": [
    "print(str.__add__('a','b'))"
   ]
  },
  {
   "cell_type": "code",
   "execution_count": 58,
   "metadata": {},
   "outputs": [],
   "source": [
    "com1 = Computer('Dell', '8GB','1TB')  #instance/object"
   ]
  },
  {
   "cell_type": "code",
   "execution_count": 51,
   "metadata": {},
   "outputs": [
    {
     "name": "stdout",
     "output_type": "stream",
     "text": [
      "A Class to model a Computer\n"
     ]
    }
   ],
   "source": [
    "\n",
    "\n",
    "print(com1)"
   ]
  },
  {
   "cell_type": "code",
   "execution_count": 52,
   "metadata": {},
   "outputs": [
    {
     "data": {
      "text/plain": [
       "'A Class to model a Computer'"
      ]
     },
     "execution_count": 52,
     "metadata": {},
     "output_type": "execute_result"
    }
   ],
   "source": [
    "str(com1)"
   ]
  },
  {
   "cell_type": "code",
   "execution_count": 53,
   "metadata": {},
   "outputs": [
    {
     "data": {
      "text/plain": [
       "5"
      ]
     },
     "execution_count": 53,
     "metadata": {},
     "output_type": "execute_result"
    }
   ],
   "source": [
    "len('hello')"
   ]
  },
  {
   "cell_type": "code",
   "execution_count": 54,
   "metadata": {},
   "outputs": [
    {
     "name": "stdout",
     "output_type": "stream",
     "text": [
      "5\n"
     ]
    }
   ],
   "source": [
    "print('hello'.__len__())"
   ]
  },
  {
   "cell_type": "code",
   "execution_count": 62,
   "metadata": {},
   "outputs": [
    {
     "data": {
      "text/plain": [
       "'1TB'"
      ]
     },
     "execution_count": 62,
     "metadata": {},
     "output_type": "execute_result"
    }
   ],
   "source": [
    "com1.__len__()"
   ]
  },
  {
   "cell_type": "markdown",
   "metadata": {},
   "source": [
    "## Working with Classes and Objects"
   ]
  },
  {
   "cell_type": "code",
   "execution_count": 86,
   "metadata": {},
   "outputs": [],
   "source": [
    "class Computer():\n",
    "    '''A Class to model a Computer'''\n",
    "    \n",
    "    \n",
    "    def __init__(self, name, ram, storage):      #special method, dunder methods, magic methods\n",
    "                                                  # __init__ is implictly called/ Constructor\n",
    "        self.name = name\n",
    "        self.ram = ram\n",
    "        self.storage = storage\n",
    "        self.power = 0  #default attribute\n",
    "        \n",
    "    def compute(self):\n",
    "        '''Method for Processing'''\n",
    "        print(\"Computer is processing\")\n",
    "        \n",
    "    def run_program(self):\n",
    "        '''To execute a Program'''\n",
    "        print(\"Program executed\")\n",
    "        \n",
    "   # def update_power(self, power):\n",
    "    #    '''Update power reading of a Computer'''\n",
    "    #    if power >= self.power:\n",
    "    #        self.power = power\n",
    "    #    else:\n",
    "    #        print(\"You can't rollback power reading.\")\n",
    "            \n",
    "    def update_power(self, power):\n",
    "        '''Increment power reading of a Computer'''\n",
    "        if power >= 0:\n",
    "            self.power += power\n",
    "        else:\n",
    "            print(\"You can't rollback power reading.\") \n",
    "                "
   ]
  },
  {
   "cell_type": "code",
   "execution_count": 87,
   "metadata": {},
   "outputs": [],
   "source": [
    "com1 = Computer('Dell', '8GB', '1TB')"
   ]
  },
  {
   "cell_type": "code",
   "execution_count": 88,
   "metadata": {},
   "outputs": [
    {
     "data": {
      "text/plain": [
       "0"
      ]
     },
     "execution_count": 88,
     "metadata": {},
     "output_type": "execute_result"
    }
   ],
   "source": [
    "com1.power"
   ]
  },
  {
   "cell_type": "code",
   "execution_count": 67,
   "metadata": {},
   "outputs": [],
   "source": [
    "#Modify attribute values"
   ]
  },
  {
   "cell_type": "code",
   "execution_count": 70,
   "metadata": {},
   "outputs": [],
   "source": [
    "#1. Through an instance\n",
    "\n",
    "com1.power = 2"
   ]
  },
  {
   "cell_type": "code",
   "execution_count": 71,
   "metadata": {},
   "outputs": [
    {
     "data": {
      "text/plain": [
       "2"
      ]
     },
     "execution_count": 71,
     "metadata": {},
     "output_type": "execute_result"
    }
   ],
   "source": [
    "com1.power"
   ]
  },
  {
   "cell_type": "code",
   "execution_count": 80,
   "metadata": {},
   "outputs": [],
   "source": [
    "#2. Through a method\n",
    "\n",
    "com1.update_power(2) #Abstraction\n"
   ]
  },
  {
   "cell_type": "code",
   "execution_count": 82,
   "metadata": {},
   "outputs": [
    {
     "data": {
      "text/plain": [
       "2"
      ]
     },
     "execution_count": 82,
     "metadata": {},
     "output_type": "execute_result"
    }
   ],
   "source": [
    "com1.power"
   ]
  },
  {
   "cell_type": "code",
   "execution_count": 93,
   "metadata": {},
   "outputs": [],
   "source": [
    "#3. Increment a value\n",
    "\n",
    "com1.update_power(30)   #Abstraction"
   ]
  },
  {
   "cell_type": "code",
   "execution_count": 94,
   "metadata": {},
   "outputs": [
    {
     "data": {
      "text/plain": [
       "60"
      ]
     },
     "execution_count": 94,
     "metadata": {},
     "output_type": "execute_result"
    }
   ],
   "source": [
    "com1.power"
   ]
  },
  {
   "cell_type": "markdown",
   "metadata": {},
   "source": [
    "## Inheritance\n",
    "\n",
    "- Specialized version of another class"
   ]
  },
  {
   "cell_type": "code",
   "execution_count": 156,
   "metadata": {},
   "outputs": [],
   "source": [
    "class Computer():\n",
    "    '''A Class to model a Computer'''\n",
    "    \n",
    "    \n",
    "    def __init__(self, name, ram, storage):      #special method, dunder methods, magic methods\n",
    "                                                  # __init__ is implictly called/ Constructor\n",
    "        self.name = name\n",
    "        self.ram = ram\n",
    "        self.storage = storage\n",
    "        self.power = 0  #default attribute\n",
    "        \n",
    "    def compute(self):\n",
    "        '''Method for Processing'''\n",
    "        print(\"Computer is processing\")\n",
    "        \n",
    "    def run_program(self):\n",
    "        '''To execute a Program'''\n",
    "        print(\"Program executed\")\n",
    "        \n",
    "   # def update_power(self, power):\n",
    "    #    '''Update power reading of a Computer'''\n",
    "    #    if power >= self.power:\n",
    "    #        self.power = power\n",
    "    #    else:\n",
    "    #        print(\"You can't rollback power reading.\")\n",
    "            \n",
    "    def update_power(self, power):\n",
    "        '''Increment power reading of a Computer'''\n",
    "        if power >= 0:\n",
    "            self.power += power\n",
    "        else:\n",
    "            print(\"You can't rollback power reading.\") \n",
    "            \n",
    "    def webcam(self, camera):\n",
    "        '''Attach a webcam to the Computer'''\n",
    "        print(f'{camera} webcam has been attached to the Computer')\n",
    "        \n",
    "    #def area():  #abstract method\n",
    "    #   pass\n",
    "                "
   ]
  },
  {
   "cell_type": "code",
   "execution_count": 151,
   "metadata": {},
   "outputs": [],
   "source": [
    "com1 = Computer('Dell', '8GB', '1TB')"
   ]
  },
  {
   "cell_type": "code",
   "execution_count": 147,
   "metadata": {},
   "outputs": [
    {
     "name": "stdout",
     "output_type": "stream",
     "text": [
      "logitech webcam has been attached to the Computer\n"
     ]
    }
   ],
   "source": [
    "com1.webcam('logitech')"
   ]
  },
  {
   "cell_type": "code",
   "execution_count": 96,
   "metadata": {},
   "outputs": [],
   "source": [
    "class Laptop(Computer):\n",
    "    \n",
    "    def __init__(self, name, ram, storage):\n",
    "        '''Initialize the attributes'''\n",
    "        super().__init__(name, ram, storage)\n",
    "    "
   ]
  },
  {
   "cell_type": "code",
   "execution_count": 97,
   "metadata": {},
   "outputs": [],
   "source": [
    "lap1 = Laptop('dell', '12GB', '2TB')"
   ]
  },
  {
   "cell_type": "code",
   "execution_count": 100,
   "metadata": {},
   "outputs": [
    {
     "name": "stdout",
     "output_type": "stream",
     "text": [
      "Program executed\n"
     ]
    }
   ],
   "source": [
    "lap1.run_program()"
   ]
  },
  {
   "cell_type": "code",
   "execution_count": 106,
   "metadata": {},
   "outputs": [],
   "source": [
    "class Laptop(Computer):\n",
    "    \n",
    "    def __init__(self, name, ram, storage):\n",
    "        '''Initialize the attributes'''\n",
    "        Computer.__init__(self, name, ram, storage)\n",
    "        "
   ]
  },
  {
   "cell_type": "code",
   "execution_count": 102,
   "metadata": {},
   "outputs": [],
   "source": [
    "lap2 = Laptop('dell', '12GB', '2TB')"
   ]
  },
  {
   "cell_type": "code",
   "execution_count": 103,
   "metadata": {},
   "outputs": [
    {
     "name": "stdout",
     "output_type": "stream",
     "text": [
      "Program executed\n"
     ]
    }
   ],
   "source": [
    "lap2.run_program()"
   ]
  },
  {
   "cell_type": "markdown",
   "metadata": {},
   "source": [
    "## Types of Inheritance\n",
    "\n",
    "1. **Single** - One base class and one child class\n",
    "2. **Multiple** - Single child inherits from multiple parent classes\n",
    "3. **Multilevel** - Parent to grandchild \n",
    "4. **Hierarchical** - Multiple child and grandchild classes\n",
    "5. **Hybrid** - Any combination from 1-4"
   ]
  },
  {
   "cell_type": "code",
   "execution_count": 104,
   "metadata": {},
   "outputs": [],
   "source": [
    "#Single\n",
    "class A():\n",
    "    pass"
   ]
  },
  {
   "cell_type": "code",
   "execution_count": 105,
   "metadata": {},
   "outputs": [],
   "source": [
    "class B(A):\n",
    "    pass"
   ]
  },
  {
   "cell_type": "code",
   "execution_count": 109,
   "metadata": {},
   "outputs": [],
   "source": [
    "#Multiple\n",
    "class A():\n",
    "    pass\n",
    "\n",
    "class B():\n",
    "    pass\n"
   ]
  },
  {
   "cell_type": "code",
   "execution_count": 110,
   "metadata": {},
   "outputs": [],
   "source": [
    "class C(A,B):\n",
    "    pass"
   ]
  },
  {
   "cell_type": "code",
   "execution_count": 111,
   "metadata": {},
   "outputs": [],
   "source": [
    "#Multilevel Ineritance\n",
    "\n",
    "class A():\n",
    "    pass"
   ]
  },
  {
   "cell_type": "code",
   "execution_count": 112,
   "metadata": {},
   "outputs": [],
   "source": [
    "class B(A):\n",
    "    pass"
   ]
  },
  {
   "cell_type": "code",
   "execution_count": 113,
   "metadata": {},
   "outputs": [],
   "source": [
    "class C(B):\n",
    "    pass"
   ]
  },
  {
   "cell_type": "code",
   "execution_count": 115,
   "metadata": {},
   "outputs": [],
   "source": [
    "##Hierarchical \n",
    "\n",
    "class A():\n",
    "    pass"
   ]
  },
  {
   "cell_type": "code",
   "execution_count": 116,
   "metadata": {},
   "outputs": [],
   "source": [
    "class B(A):\n",
    "    pass"
   ]
  },
  {
   "cell_type": "code",
   "execution_count": 117,
   "metadata": {},
   "outputs": [],
   "source": [
    "class B1(A):\n",
    "    pass"
   ]
  },
  {
   "cell_type": "code",
   "execution_count": 118,
   "metadata": {},
   "outputs": [],
   "source": [
    "class B2(A):\n",
    "    pass"
   ]
  },
  {
   "cell_type": "code",
   "execution_count": 119,
   "metadata": {},
   "outputs": [],
   "source": [
    "class C(B):\n",
    "    pass"
   ]
  },
  {
   "cell_type": "code",
   "execution_count": 120,
   "metadata": {},
   "outputs": [],
   "source": [
    "class C1(B):\n",
    "    pass"
   ]
  },
  {
   "cell_type": "markdown",
   "metadata": {},
   "source": [
    "## Definig attributes and methods for a child class"
   ]
  },
  {
   "cell_type": "code",
   "execution_count": 157,
   "metadata": {},
   "outputs": [],
   "source": [
    "class Laptop(Computer):\n",
    "    \n",
    "    def __init__(self, name, ram, storage):\n",
    "        '''Initialize the attributes'''\n",
    "        Computer.__init__(self, name, ram, storage)\n",
    "        self.battery = 4 #additional attribute\n",
    "        self.backup = 5\n",
    "        \n",
    "    def battery_backup(self): #additional method\n",
    "        print(f'The battery backup is of {self.backup} hours')\n",
    "        \n",
    "    "
   ]
  },
  {
   "cell_type": "code",
   "execution_count": 153,
   "metadata": {},
   "outputs": [],
   "source": [
    "lap2 = Laptop('dell', '12GB', '2TB')"
   ]
  },
  {
   "cell_type": "code",
   "execution_count": 155,
   "metadata": {},
   "outputs": [
    {
     "name": "stdout",
     "output_type": "stream",
     "text": [
      "logitech webcam has been attached to the Computer\n"
     ]
    }
   ],
   "source": [
    "lap2.webcam('logitech')"
   ]
  },
  {
   "cell_type": "markdown",
   "metadata": {},
   "source": [
    "## Override methods of the Parent class #Polymorphism"
   ]
  },
  {
   "cell_type": "code",
   "execution_count": 160,
   "metadata": {},
   "outputs": [],
   "source": [
    "class Laptop(Computer):\n",
    "    \n",
    "    def __init__(self, name, ram, storage):\n",
    "        '''Initialize the attributes'''\n",
    "        Computer.__init__(self, name, ram, storage)\n",
    "        self.battery = 4 #additional attribute\n",
    "        self.backup = 5\n",
    "       \n",
    "        \n",
    "    def battery_backup(self): #additional method\n",
    "        print(f'The battery backup is of {self.backup} hours')\n",
    "        \n",
    "    def webcam(self, camera):\n",
    "        print(\"There's already a built-in webcam\")"
   ]
  },
  {
   "cell_type": "code",
   "execution_count": 161,
   "metadata": {},
   "outputs": [],
   "source": [
    "lap2 = Laptop('dell', '12GB', '2TB')"
   ]
  },
  {
   "cell_type": "code",
   "execution_count": 162,
   "metadata": {},
   "outputs": [
    {
     "name": "stdout",
     "output_type": "stream",
     "text": [
      "There's already a built-in webcam\n"
     ]
    }
   ],
   "source": [
    "lap2.webcam('logitech')"
   ]
  },
  {
   "cell_type": "markdown",
   "metadata": {},
   "source": [
    "## Instance as attributes"
   ]
  },
  {
   "cell_type": "code",
   "execution_count": 165,
   "metadata": {},
   "outputs": [],
   "source": [
    "class Battery():\n",
    "    '''A class that models a Laptop battery'''\n",
    "    \n",
    "    def __init__(self, size = 6, backup = 4):\n",
    "        '''Initialize the battery's attributes'''\n",
    "        self.size = size\n",
    "        self.backup = backup\n",
    "        \n",
    "    def describe_battery(self):\n",
    "        print(f'The battery size is of {self.size} cells')\n",
    "        print(f'The battery backup is of {self.backup} hours')\n",
    "        "
   ]
  },
  {
   "cell_type": "code",
   "execution_count": 168,
   "metadata": {},
   "outputs": [],
   "source": [
    "class Laptop(Computer):\n",
    "    \n",
    "    def __init__(self, name, ram, storage):\n",
    "        '''Initialize the attributes'''\n",
    "        Computer.__init__(self, name, ram, storage)\n",
    "        self.battery = Battery()\n",
    "       \n",
    "        \n",
    "    def webcam(self, camera):\n",
    "        print(\"There's already a built-in webcam\")"
   ]
  },
  {
   "cell_type": "code",
   "execution_count": 169,
   "metadata": {},
   "outputs": [],
   "source": [
    "lap2 = Laptop('dell', '8GB', '1TB')"
   ]
  },
  {
   "cell_type": "code",
   "execution_count": 172,
   "metadata": {},
   "outputs": [
    {
     "name": "stdout",
     "output_type": "stream",
     "text": [
      "The battery size is of 6 cells\n",
      "The battery backup is of 4 hours\n"
     ]
    }
   ],
   "source": [
    "lap2.battery.describe_battery()"
   ]
  },
  {
   "cell_type": "markdown",
   "metadata": {},
   "source": [
    "## Importing Classes"
   ]
  },
  {
   "cell_type": "code",
   "execution_count": 173,
   "metadata": {},
   "outputs": [
    {
     "name": "stdout",
     "output_type": "stream",
     "text": [
      "Writing comuputer.py\n"
     ]
    }
   ],
   "source": [
    "%%writefile comuputer.py\n",
    "\n",
    "class Computer():\n",
    "    '''A Class to model a Computer'''\n",
    "    \n",
    "    \n",
    "    def __init__(self, name, ram, storage):      #special method, dunder methods, magic methods\n",
    "                                                  # __init__ is implictly called/ Constructor\n",
    "        self.name = name\n",
    "        self.ram = ram\n",
    "        self.storage = storage\n",
    "        self.power = 0  #default attribute\n",
    "        \n",
    "    def compute(self):\n",
    "        '''Method for Processing'''\n",
    "        print(\"Computer is processing\")\n",
    "        \n",
    "    def run_program(self):\n",
    "        '''To execute a Program'''\n",
    "        print(\"Program executed\")\n",
    "        \n",
    "   # def update_power(self, power):\n",
    "    #    '''Update power reading of a Computer'''\n",
    "    #    if power >= self.power:\n",
    "    #        self.power = power\n",
    "    #    else:\n",
    "    #        print(\"You can't rollback power reading.\")\n",
    "            \n",
    "    def update_power(self, power):\n",
    "        '''Increment power reading of a Computer'''\n",
    "        if power >= 0:\n",
    "            self.power += power\n",
    "        else:\n",
    "            print(\"You can't rollback power reading.\") \n",
    "            \n",
    "    def webcam(self, camera):\n",
    "        '''Attach a webcam to the Computer'''\n",
    "        print(f'{camera} webcam has been attached to the Computer')\n",
    "        \n",
    "    #def area():  #abstract method\n",
    "    #   pass\n",
    "                "
   ]
  },
  {
   "cell_type": "code",
   "execution_count": 1,
   "metadata": {},
   "outputs": [],
   "source": [
    "#Importing a single class\n",
    "\n",
    "from computer import Computer"
   ]
  },
  {
   "cell_type": "code",
   "execution_count": 2,
   "metadata": {},
   "outputs": [],
   "source": [
    "com1 = Computer('Dell', '8GB', '1TB')"
   ]
  },
  {
   "cell_type": "code",
   "execution_count": 4,
   "metadata": {},
   "outputs": [
    {
     "data": {
      "text/plain": [
       "'Dell'"
      ]
     },
     "execution_count": 4,
     "metadata": {},
     "output_type": "execute_result"
    }
   ],
   "source": [
    "com1.name"
   ]
  },
  {
   "cell_type": "code",
   "execution_count": null,
   "metadata": {},
   "outputs": [],
   "source": [
    "import computer"
   ]
  },
  {
   "cell_type": "code",
   "execution_count": 6,
   "metadata": {},
   "outputs": [],
   "source": [
    "#Store multiple classes in a module\n",
    "\n",
    "#Importing multiple Classes from a module\n",
    "\n",
    "from computer import Computer, Laptop"
   ]
  },
  {
   "cell_type": "code",
   "execution_count": null,
   "metadata": {},
   "outputs": [],
   "source": [
    "Laptop()"
   ]
  },
  {
   "cell_type": "code",
   "execution_count": 7,
   "metadata": {},
   "outputs": [
    {
     "name": "stdout",
     "output_type": "stream",
     "text": [
      "Writing laptop.py\n"
     ]
    }
   ],
   "source": [
    "%%writefile laptop.py\n",
    "\n",
    "class Battery():\n",
    "    '''A class that models a Laptop battery'''\n",
    "    \n",
    "    def __init__(self, size = 6, backup = 4):\n",
    "        '''Initialize the battery's attributes'''\n",
    "        self.size = size\n",
    "        self.backup = backup\n",
    "        \n",
    "    def describe_battery(self):\n",
    "        print(f'The battery size is of {self.size} cells')\n",
    "        print(f'The battery backup is of {self.backup} hours')\n",
    "        \n",
    "        \n",
    "class Laptop(Computer):\n",
    "    \n",
    "    def __init__(self, name, ram, storage):\n",
    "        '''Initialize the attributes'''\n",
    "        Computer.__init__(self, name, ram, storage)\n",
    "        self.battery = Battery()\n",
    "       \n",
    "        \n",
    "    def webcam(self, camera):\n",
    "        print(\"There's already a built-in webcam\")"
   ]
  },
  {
   "cell_type": "code",
   "execution_count": 1,
   "metadata": {},
   "outputs": [],
   "source": [
    "from computer import Computer\n",
    "from laptop import Laptop"
   ]
  },
  {
   "cell_type": "code",
   "execution_count": 2,
   "metadata": {},
   "outputs": [],
   "source": [
    "## The python Standard Library\n",
    "\n",
    "# set of modules included with every python installation"
   ]
  },
  {
   "cell_type": "code",
   "execution_count": 3,
   "metadata": {},
   "outputs": [],
   "source": [
    "from collections import OrderedDict\n",
    "\n",
    "from computer import Computer"
   ]
  },
  {
   "cell_type": "code",
   "execution_count": 4,
   "metadata": {},
   "outputs": [],
   "source": [
    "favourite_languages = OrderedDict()"
   ]
  },
  {
   "cell_type": "code",
   "execution_count": 5,
   "metadata": {},
   "outputs": [],
   "source": [
    "favourite_languages['usr1'] = 'python'\n",
    "favourite_languages['usr2'] = 'java'\n",
    "favourite_languages['usr3'] = 'c'"
   ]
  },
  {
   "cell_type": "code",
   "execution_count": 6,
   "metadata": {},
   "outputs": [
    {
     "data": {
      "text/plain": [
       "OrderedDict([('usr1', 'python'), ('usr2', 'java'), ('usr3', 'c')])"
      ]
     },
     "execution_count": 6,
     "metadata": {},
     "output_type": "execute_result"
    }
   ],
   "source": [
    "favourite_languages"
   ]
  },
  {
   "cell_type": "code",
   "execution_count": 7,
   "metadata": {},
   "outputs": [
    {
     "name": "stdout",
     "output_type": "stream",
     "text": [
      "usr1 python\n",
      "usr2 java\n",
      "usr3 c\n"
     ]
    }
   ],
   "source": [
    "for key,value in favourite_languages.items():\n",
    "    print(key, value)"
   ]
  },
  {
   "cell_type": "code",
   "execution_count": null,
   "metadata": {},
   "outputs": [],
   "source": [
    "# Styling Classes\n",
    "\n",
    "#1. Camel Caps\n",
    "#2. Instances-module names(lowercase)\n",
    "#3. Docstring- Classes, Methods, Modules\n",
    "#4. Blank Lines - 1(methods) 2(classes)\n",
    "#5. Import (standard libarary)- blank line - own module"
   ]
  }
 ],
 "metadata": {
  "kernelspec": {
   "display_name": "Python 3",
   "language": "python",
   "name": "python3"
  },
  "language_info": {
   "codemirror_mode": {
    "name": "ipython",
    "version": 3
   },
   "file_extension": ".py",
   "mimetype": "text/x-python",
   "name": "python",
   "nbconvert_exporter": "python",
   "pygments_lexer": "ipython3",
   "version": "3.7.4"
  }
 },
 "nbformat": 4,
 "nbformat_minor": 2
}
