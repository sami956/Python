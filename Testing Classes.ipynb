{
 "cells": [
  {
   "cell_type": "markdown",
   "metadata": {},
   "source": [
    "## Json files"
   ]
  },
  {
   "cell_type": "code",
   "execution_count": 1,
   "metadata": {},
   "outputs": [],
   "source": [
    "import json"
   ]
  },
  {
   "cell_type": "markdown",
   "metadata": {},
   "source": [
    "    json.dump() -->  store simple python data structures into a json file (json datatype)\n",
    "    \n",
    "    json.load() --> load the data from json file( python data type)\n",
    "    \n",
    "    list(python) --> array\n",
    "    dict (python) --> object\n",
    "    str (python) --> string\n",
    "    True         --> true\n",
    "    None         --> null\n",
    "    \n",
    "    json.dumps()  --> Convert python object to a json string\n",
    "    json.loads()  --> Convert json string to a python object"
   ]
  },
  {
   "cell_type": "code",
   "execution_count": 2,
   "metadata": {},
   "outputs": [
    {
     "data": {
      "text/plain": [
       "{'users': [{'name': 'sam'}, {'name': 'max'}, {'name': 'tom'}]}"
      ]
     },
     "execution_count": 2,
     "metadata": {},
     "output_type": "execute_result"
    }
   ],
   "source": [
    "{\"users\" : [{'name': 'sam'},{'name' : 'max'},{'name': 'tom'}]}"
   ]
  },
  {
   "cell_type": "code",
   "execution_count": 4,
   "metadata": {},
   "outputs": [],
   "source": [
    "numbers = [1,2,3,4,5]\n",
    "\n",
    "num = json.dumps(numbers)"
   ]
  },
  {
   "cell_type": "code",
   "execution_count": 5,
   "metadata": {},
   "outputs": [],
   "source": [
    "#json.dump(num, f_obj)\n",
    "\n",
    "#numbers = json.load(f_obj)\n",
    "\n",
    "#numbers = json.loads(numbers)\n",
    "\n",
    "#numbers = [[1,2,3,4], [3,4]]"
   ]
  },
  {
   "cell_type": "markdown",
   "metadata": {},
   "source": [
    "## Testing a Class"
   ]
  },
  {
   "cell_type": "markdown",
   "metadata": {},
   "source": [
    " Assert Methods\n",
    "  \n",
    "    1.assertEqual(a,b)    ---> Verify that a == b\n",
    "    2.assertNotEqual(a,b)  --->             a != b\n",
    "    3.assertTrue(x)        ---->.  Verify x is True\n",
    "    4.assertFalse(x)       ----->.  x is False\n",
    "    5.assertIn(item, list)   ----> Verify item in a list\n",
    "    6.assertNotIn(item, list) ---> item not in a list"
   ]
  },
  {
   "cell_type": "code",
   "execution_count": 13,
   "metadata": {},
   "outputs": [],
   "source": [
    "class TakeSurvey():\n",
    "    '''Collect answers to a survey question.'''\n",
    "    \n",
    "    def __init__(self, question):\n",
    "        self.question = question\n",
    "        self.responses = []\n",
    "        \n",
    "    def show_question(self):\n",
    "        '''Show the survey question'''\n",
    "        print(self.question)\n",
    "        \n",
    "    def store_responses(self, new_response):\n",
    "        self.responses.append(new_response)\n",
    "        \n",
    "    def show_results(self):\n",
    "        print(\"Survey Results:\")\n",
    "        for response in self.responses:\n",
    "            print(\"-\" + response)"
   ]
  },
  {
   "cell_type": "code",
   "execution_count": 16,
   "metadata": {},
   "outputs": [],
   "source": [
    "#Define a question, and make a survey\n",
    "question = 'Which language did you first learn to code? '\n",
    "\n",
    "my_survey = TakeSurvey(question)\n",
    "\n"
   ]
  },
  {
   "cell_type": "code",
   "execution_count": null,
   "metadata": {},
   "outputs": [],
   "source": [
    "my_survey."
   ]
  },
  {
   "cell_type": "code",
   "execution_count": 10,
   "metadata": {},
   "outputs": [
    {
     "name": "stdout",
     "output_type": "stream",
     "text": [
      "Which language did you first learn to code? \n",
      "Enter exit to quit\n",
      "\n",
      "Language: Python\n",
      "Language: C++\n",
      "Language: C\n",
      "Language: exit\n"
     ]
    }
   ],
   "source": [
    "#Show question, and store the responses\n",
    "\n",
    "my_survey.show_question()\n",
    "\n",
    "print(\"Enter exit to quit\\n\")\n",
    "\n",
    "while True:\n",
    "    \n",
    "    response = input(\"Language: \")\n",
    "    if response == \"exit\":\n",
    "        break\n",
    "        \n",
    "    my_survey.store_responses(response)"
   ]
  },
  {
   "cell_type": "code",
   "execution_count": 11,
   "metadata": {},
   "outputs": [
    {
     "name": "stdout",
     "output_type": "stream",
     "text": [
      "Thank you for taking the survey.\n",
      "\n",
      "Survey Results:\n",
      "-Python\n",
      "-C++\n",
      "-C\n"
     ]
    }
   ],
   "source": [
    "#Show results\n",
    "\n",
    "print(\"Thank you for taking the survey.\\n\")\n",
    "my_survey.show_results()"
   ]
  },
  {
   "cell_type": "markdown",
   "metadata": {},
   "source": [
    "## Testing Survey Class"
   ]
  },
  {
   "cell_type": "code",
   "execution_count": 12,
   "metadata": {},
   "outputs": [],
   "source": [
    "import unittest"
   ]
  },
  {
   "cell_type": "code",
   "execution_count": 19,
   "metadata": {},
   "outputs": [],
   "source": [
    "class TestSurvey(unittest.TestCase):\n",
    "    \n",
    "    def test_store_response(self):\n",
    "        '''Test if a response is stored properly'''\n",
    "        question = 'Which language did you first learn to code? '\n",
    "        mysurvey = TakeSurvey(question)\n",
    "        mysurvey.store_responses('Python')\n",
    "        \n",
    "        self.assertIn('Python', mysurvey.responses)"
   ]
  },
  {
   "cell_type": "code",
   "execution_count": 20,
   "metadata": {},
   "outputs": [
    {
     "name": "stderr",
     "output_type": "stream",
     "text": [
      ".\n",
      "----------------------------------------------------------------------\n",
      "Ran 1 test in 0.001s\n",
      "\n",
      "OK\n"
     ]
    },
    {
     "data": {
      "text/plain": [
       "<unittest.main.TestProgram at 0x7fcbc1de9790>"
      ]
     },
     "execution_count": 20,
     "metadata": {},
     "output_type": "execute_result"
    }
   ],
   "source": [
    "unittest.main(argv=[''], exit = False)"
   ]
  },
  {
   "cell_type": "code",
   "execution_count": 21,
   "metadata": {},
   "outputs": [],
   "source": [
    "class TestSurvey(unittest.TestCase):\n",
    "    \n",
    "    def test_store_response(self):\n",
    "        '''Test if a response is stored properly'''\n",
    "        question = 'Which language did you first learn to code? '\n",
    "        mysurvey = TakeSurvey(question)\n",
    "        mysurvey.store_responses('Python')\n",
    "        \n",
    "        self.assertIn('Python', mysurvey.responses)\n",
    "        \n",
    "    def test_store_multiple_responses(self):\n",
    "        question = 'Which language did you first learn to code? '\n",
    "        mysurvey = TakeSurvey(question)\n",
    "        \n",
    "        answers = ['Python', 'C', 'Perl']\n",
    "        \n",
    "        for answer in answers:   \n",
    "            mysurvey.store_responses(answer)\n",
    "        \n",
    "        for answer in answers:\n",
    "            self.assertIn(answer, mysurvey.responses)"
   ]
  },
  {
   "cell_type": "code",
   "execution_count": 22,
   "metadata": {},
   "outputs": [
    {
     "name": "stderr",
     "output_type": "stream",
     "text": [
      "..\n",
      "----------------------------------------------------------------------\n",
      "Ran 2 tests in 0.002s\n",
      "\n",
      "OK\n"
     ]
    },
    {
     "data": {
      "text/plain": [
       "<unittest.main.TestProgram at 0x7fcbc1fb8150>"
      ]
     },
     "execution_count": 22,
     "metadata": {},
     "output_type": "execute_result"
    }
   ],
   "source": [
    "unittest.main(argv=[''], exit = False)"
   ]
  },
  {
   "cell_type": "markdown",
   "metadata": {},
   "source": [
    "## The setUp() method"
   ]
  },
  {
   "cell_type": "code",
   "execution_count": 31,
   "metadata": {},
   "outputs": [],
   "source": [
    "class TestSurvey(unittest.TestCase):\n",
    "    \n",
    "    \n",
    "    def setUp(self):\n",
    "        question = 'Which language did you first learn to code? '\n",
    "        \n",
    "        self.mysurvey = TakeSurvey(question)\n",
    "        \n",
    "        self.answers = ['Python', 'C', 'Perl']\n",
    "        \n",
    "        \n",
    "    \n",
    "    def test_store_response(self):\n",
    "        '''Test if a response is stored properly'''\n",
    "        \n",
    "        self.mysurvey.store_responses(self.answers[0])\n",
    "        self.assertIn(self.answers[0], self.mysurvey.responses)\n",
    "        \n",
    "    def test_store_multiple_responses(self):\n",
    "        \n",
    "        for answer in self.answers:   \n",
    "            self.mysurvey.store_responses(answer)\n",
    "        \n",
    "        for answer in self.answers:\n",
    "            self.assertIn(answer, self.mysurvey.responses)"
   ]
  },
  {
   "cell_type": "code",
   "execution_count": 32,
   "metadata": {},
   "outputs": [
    {
     "name": "stderr",
     "output_type": "stream",
     "text": [
      "..\n",
      "----------------------------------------------------------------------\n",
      "Ran 2 tests in 0.002s\n",
      "\n",
      "OK\n"
     ]
    },
    {
     "data": {
      "text/plain": [
       "<unittest.main.TestProgram at 0x7fcbc1dca2d0>"
      ]
     },
     "execution_count": 32,
     "metadata": {},
     "output_type": "execute_result"
    }
   ],
   "source": [
    "unittest.main(argv=[''], exit = False)"
   ]
  },
  {
   "cell_type": "markdown",
   "metadata": {},
   "source": [
    "## Try Yourself"
   ]
  },
  {
   "cell_type": "markdown",
   "metadata": {},
   "source": [
    "     1.Employee\n",
    "     2. init - first, last, salary\n",
    "     3. method (give_raise) - 10000 (by default)\n",
    "     4. accept user input for increment( if given)\n",
    "     \n",
    "   \n",
    "     Test the Class:\n",
    "     \n",
    "     1. test_give_default_raise()\n",
    "     2. test_give_custom_raise()\n",
    "     3. Use the setUp() method"
   ]
  },
  {
   "cell_type": "code",
   "execution_count": null,
   "metadata": {},
   "outputs": [],
   "source": []
  }
 ],
 "metadata": {
  "kernelspec": {
   "display_name": "Python 3",
   "language": "python",
   "name": "python3"
  },
  "language_info": {
   "codemirror_mode": {
    "name": "ipython",
    "version": 3
   },
   "file_extension": ".py",
   "mimetype": "text/x-python",
   "name": "python",
   "nbconvert_exporter": "python",
   "pygments_lexer": "ipython3",
   "version": "3.7.4"
  }
 },
 "nbformat": 4,
 "nbformat_minor": 2
}
