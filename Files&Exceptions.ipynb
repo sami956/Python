{
 "cells": [
  {
   "cell_type": "markdown",
   "metadata": {},
   "source": [
    "## File Handling\n",
    "\n",
    "1. Store the data for later use\n",
    "2. For Data Analysis applications"
   ]
  },
  {
   "cell_type": "markdown",
   "metadata": {},
   "source": [
    "## Reading from a text file"
   ]
  },
  {
   "cell_type": "code",
   "execution_count": 8,
   "metadata": {},
   "outputs": [],
   "source": [
    "f_obj = open('pi.txt')\n",
    "\n",
    "contents = f_obj.read()  #Read an entire file #default-strings(str)\n",
    "\n",
    "f_obj.close()"
   ]
  },
  {
   "cell_type": "code",
   "execution_count": 11,
   "metadata": {},
   "outputs": [
    {
     "name": "stdout",
     "output_type": "stream",
     "text": [
      "3.1415926535\n",
      "  8979323846\n",
      "  2643383279\n"
     ]
    }
   ],
   "source": [
    "with open('pi.txt') as f_obj:\n",
    "    \n",
    "    contents = f_obj.read()\n",
    "    print(contents)"
   ]
  },
  {
   "cell_type": "code",
   "execution_count": 14,
   "metadata": {},
   "outputs": [
    {
     "name": "stdout",
     "output_type": "stream",
     "text": [
      "3.1415926535\n",
      "  8979323846\n",
      "  2643383279\n"
     ]
    }
   ],
   "source": [
    "print(contents)"
   ]
  },
  {
   "cell_type": "code",
   "execution_count": 15,
   "metadata": {},
   "outputs": [
    {
     "name": "stdout",
     "output_type": "stream",
     "text": [
      "3.1415926535\n",
      "  8979323846\n",
      "  2643383279\n"
     ]
    }
   ],
   "source": [
    "filename = 'Textfiles/pi.txt'  #Relative path(working dorectory)(\\- Windows)\n",
    "\n",
    "# filename = 'Desktop/file.txt'   #Absolute path\n",
    "\n",
    "with open(filename) as f_obj:\n",
    "    contents = f_obj.read()\n",
    "    print(contents)"
   ]
  },
  {
   "cell_type": "code",
   "execution_count": 16,
   "metadata": {},
   "outputs": [
    {
     "name": "stdout",
     "output_type": "stream",
     "text": [
      "3.1415926535\n",
      "\n",
      "  8979323846\n",
      "\n",
      "  2643383279\n"
     ]
    }
   ],
   "source": [
    "#Reading line by line:\n",
    "\n",
    "filename = 'Textfiles/pi.txt' \n",
    "\n",
    "with open(filename) as f_obj:\n",
    "    for line in f_obj:\n",
    "        print(line)"
   ]
  },
  {
   "cell_type": "code",
   "execution_count": 17,
   "metadata": {},
   "outputs": [],
   "source": [
    "#Read content and store it in a List\n",
    "\n",
    "filename = 'Textfiles/pi.txt' \n",
    "\n",
    "with open(filename) as f_obj:\n",
    "    \n",
    "    lines = f_obj.readlines()"
   ]
  },
  {
   "cell_type": "code",
   "execution_count": 19,
   "metadata": {},
   "outputs": [
    {
     "data": {
      "text/plain": [
       "['3.1415926535\\n', '  8979323846\\n', '  2643383279']"
      ]
     },
     "execution_count": 19,
     "metadata": {},
     "output_type": "execute_result"
    }
   ],
   "source": [
    "lines"
   ]
  },
  {
   "cell_type": "code",
   "execution_count": 22,
   "metadata": {},
   "outputs": [],
   "source": [
    "## Working with a Files content:\n",
    "\n",
    "pi_string = ''\n",
    "\n",
    "for line in lines:\n",
    "    \n",
    "    pi_string += line.strip()"
   ]
  },
  {
   "cell_type": "code",
   "execution_count": 23,
   "metadata": {},
   "outputs": [
    {
     "data": {
      "text/plain": [
       "'3.141592653589793238462643383279'"
      ]
     },
     "execution_count": 23,
     "metadata": {},
     "output_type": "execute_result"
    }
   ],
   "source": [
    "pi_string"
   ]
  },
  {
   "cell_type": "markdown",
   "metadata": {},
   "source": [
    "## Large Files\n",
    "\n",
    "- As long as systems memory can handle"
   ]
  },
  {
   "cell_type": "code",
   "execution_count": 34,
   "metadata": {},
   "outputs": [],
   "source": [
    "filename = 'Textfiles/pi_million.txt'\n",
    "\n",
    "with open(filename) as f_obj:\n",
    "    pi_string = f_obj.read()"
   ]
  },
  {
   "cell_type": "code",
   "execution_count": 30,
   "metadata": {},
   "outputs": [
    {
     "name": "stdout",
     "output_type": "stream",
     "text": [
      "3.141592653589793238462643383279502884197169399375...\n"
     ]
    }
   ],
   "source": [
    "print(pi_string[:50] + \"...\")"
   ]
  },
  {
   "cell_type": "code",
   "execution_count": 38,
   "metadata": {},
   "outputs": [
    {
     "name": "stdout",
     "output_type": "stream",
     "text": [
      "Enter your birthday, in the format mmddyy:311220\n",
      "Your birthday appears in the first million digits of pi\n"
     ]
    }
   ],
   "source": [
    "#Is your bithday in PI?\n",
    "\n",
    "birthday = input(\"Enter your birthday, in the format mmddyy:\")\n",
    "\n",
    "if birthday in pi_string:\n",
    "    print(\"Your birthday appears in the first million digits of pi\")\n",
    "    \n",
    "else:\n",
    "    print(\"Your birthday does not appear in the first million digits of pi\")"
   ]
  },
  {
   "cell_type": "markdown",
   "metadata": {},
   "source": [
    "## Writing to a File"
   ]
  },
  {
   "cell_type": "code",
   "execution_count": 39,
   "metadata": {},
   "outputs": [],
   "source": [
    "filename = 'Textfiles/hello.txt'\n",
    "\n",
    "with open(filename, mode = 'w') as f_obj:\n",
    "    f_obj.write('Hello World')"
   ]
  },
  {
   "cell_type": "code",
   "execution_count": 40,
   "metadata": {},
   "outputs": [
    {
     "name": "stdout",
     "output_type": "stream",
     "text": [
      "Hello World\n"
     ]
    }
   ],
   "source": [
    "with open(filename) as f_obj:\n",
    "    contents = f_obj.read()\n",
    "    print(contents)"
   ]
  },
  {
   "cell_type": "code",
   "execution_count": 42,
   "metadata": {},
   "outputs": [],
   "source": [
    "with open(filename, mode = 'w') as f_obj: #Cleans previous file(text)\n",
    "    f_obj.write('hello')"
   ]
  },
  {
   "cell_type": "code",
   "execution_count": 43,
   "metadata": {},
   "outputs": [],
   "source": [
    "with open(filename, mode = 'a') as f_obj:\n",
    "    f_obj.write('world')"
   ]
  },
  {
   "cell_type": "code",
   "execution_count": null,
   "metadata": {},
   "outputs": [],
   "source": []
  },
  {
   "cell_type": "markdown",
   "metadata": {},
   "source": [
    "## Exception Handling"
   ]
  },
  {
   "cell_type": "code",
   "execution_count": 44,
   "metadata": {},
   "outputs": [],
   "source": [
    "#Exceptions\n",
    "\n",
    "# Special objects to manage errors that arise during the execution of the program\n",
    "# HALTS the execution of the program and creates an exception object"
   ]
  },
  {
   "cell_type": "code",
   "execution_count": 45,
   "metadata": {},
   "outputs": [],
   "source": [
    "#Handling exceptions\n",
    "\n",
    "#Manage exceptions that arise during a programs execution\n",
    "\n",
    "#try-except block \n",
    "\n",
    "#Print user friendly error messages(user mistakes)\n",
    "\n",
    "#Help to protect from malicious attacks"
   ]
  },
  {
   "cell_type": "code",
   "execution_count": 46,
   "metadata": {},
   "outputs": [],
   "source": [
    "#Reasons\n",
    "\n",
    "#1.External input\n",
    "#2.Files\n",
    "#3.Network connection problems"
   ]
  },
  {
   "cell_type": "code",
   "execution_count": 47,
   "metadata": {},
   "outputs": [
    {
     "ename": "ZeroDivisionError",
     "evalue": "division by zero",
     "output_type": "error",
     "traceback": [
      "\u001b[0;31m---------------------------------------------------------------------------\u001b[0m",
      "\u001b[0;31mZeroDivisionError\u001b[0m                         Traceback (most recent call last)",
      "\u001b[0;32m<ipython-input-47-bc757c3fda29>\u001b[0m in \u001b[0;36m<module>\u001b[0;34m\u001b[0m\n\u001b[0;32m----> 1\u001b[0;31m \u001b[0;36m1\u001b[0m \u001b[0;34m/\u001b[0m \u001b[0;36m0\u001b[0m\u001b[0;34m\u001b[0m\u001b[0;34m\u001b[0m\u001b[0m\n\u001b[0m",
      "\u001b[0;31mZeroDivisionError\u001b[0m: division by zero"
     ]
    }
   ],
   "source": [
    "1 / 0"
   ]
  },
  {
   "cell_type": "code",
   "execution_count": 48,
   "metadata": {},
   "outputs": [
    {
     "name": "stdout",
     "output_type": "stream",
     "text": [
      "You can't divide a number by Zero\n"
     ]
    }
   ],
   "source": [
    "#try-except block\n",
    "\n",
    "try:\n",
    "    1/0\n",
    "except ZeroDivisionError:\n",
    "    print(\"You can't divide a number by Zero\")"
   ]
  },
  {
   "cell_type": "code",
   "execution_count": null,
   "metadata": {},
   "outputs": [],
   "source": [
    "## The Else block\n",
    "## Any code that depends on the try block executing successfully goes in the else block\n",
    "\n",
    "print(\"Find Division of two integers\")\n",
    "print(\"Enter q to exit\")\n",
    "\n",
    "while True:\n",
    "    \n",
    "    first = input(\"Enter the first number: \")  \n",
    "    if first == 'q':\n",
    "        break\n",
    "        \n",
    "    second = input(\"Enter the second number: \")\n",
    "    if second == 'q':\n",
    "        break\n",
    "        \n",
    "    try:\n",
    "        result = int(first) // int(second)\n",
    "    except ZeroDivisionError:\n",
    "        print(\"\\nYou can't divide by zero\\n\")\n",
    "    else:\n",
    "        print(result) "
   ]
  },
  {
   "cell_type": "code",
   "execution_count": 52,
   "metadata": {},
   "outputs": [
    {
     "ename": "FileNotFoundError",
     "evalue": "[Errno 2] No such file or directory: 'Textfile/pie.txt'",
     "output_type": "error",
     "traceback": [
      "\u001b[0;31m---------------------------------------------------------------------------\u001b[0m",
      "\u001b[0;31mFileNotFoundError\u001b[0m                         Traceback (most recent call last)",
      "\u001b[0;32m<ipython-input-52-063edbb96f2e>\u001b[0m in \u001b[0;36m<module>\u001b[0;34m\u001b[0m\n\u001b[1;32m      1\u001b[0m \u001b[0mfilename\u001b[0m \u001b[0;34m=\u001b[0m \u001b[0;34m'Textfile/pie.txt'\u001b[0m\u001b[0;34m\u001b[0m\u001b[0;34m\u001b[0m\u001b[0m\n\u001b[1;32m      2\u001b[0m \u001b[0;34m\u001b[0m\u001b[0m\n\u001b[0;32m----> 3\u001b[0;31m \u001b[0;32mwith\u001b[0m \u001b[0mopen\u001b[0m\u001b[0;34m(\u001b[0m\u001b[0mfilename\u001b[0m\u001b[0;34m)\u001b[0m \u001b[0;32mas\u001b[0m \u001b[0mf_obj\u001b[0m\u001b[0;34m:\u001b[0m\u001b[0;34m\u001b[0m\u001b[0;34m\u001b[0m\u001b[0m\n\u001b[0m\u001b[1;32m      4\u001b[0m     \u001b[0mcontents\u001b[0m \u001b[0;34m=\u001b[0m \u001b[0mf_obj\u001b[0m\u001b[0;34m.\u001b[0m\u001b[0mread\u001b[0m\u001b[0;34m(\u001b[0m\u001b[0;34m)\u001b[0m\u001b[0;34m\u001b[0m\u001b[0;34m\u001b[0m\u001b[0m\n\u001b[1;32m      5\u001b[0m     \u001b[0mprint\u001b[0m\u001b[0;34m(\u001b[0m\u001b[0mcontents\u001b[0m\u001b[0;34m)\u001b[0m\u001b[0;34m\u001b[0m\u001b[0;34m\u001b[0m\u001b[0m\n",
      "\u001b[0;31mFileNotFoundError\u001b[0m: [Errno 2] No such file or directory: 'Textfile/pie.txt'"
     ]
    }
   ],
   "source": [
    "filename = 'Textfile/pie.txt'\n",
    "\n",
    "with open(filename) as f_obj:\n",
    "    contents = f_obj.read()\n",
    "    print(contents)"
   ]
  },
  {
   "cell_type": "code",
   "execution_count": 55,
   "metadata": {},
   "outputs": [
    {
     "name": "stdout",
     "output_type": "stream",
     "text": [
      "Sorry file does not exist\n"
     ]
    }
   ],
   "source": [
    "try:\n",
    "    filename = 'Textfile/pie.txt'\n",
    "\n",
    "    with open(filename) as f_obj:\n",
    "        contents = f_obj.read()\n",
    "        print(contents)\n",
    "except FileNotFoundError:\n",
    "    print(\"Sorry file does not exist\")"
   ]
  },
  {
   "cell_type": "markdown",
   "metadata": {},
   "source": [
    "## Analysing Text"
   ]
  },
  {
   "cell_type": "code",
   "execution_count": 65,
   "metadata": {},
   "outputs": [],
   "source": [
    "string = \"Alice in Wonderland\""
   ]
  },
  {
   "cell_type": "code",
   "execution_count": 66,
   "metadata": {},
   "outputs": [
    {
     "data": {
      "text/plain": [
       "['Alice', 'in', 'Wonderland']"
      ]
     },
     "execution_count": 66,
     "metadata": {},
     "output_type": "execute_result"
    }
   ],
   "source": [
    "string.split()"
   ]
  },
  {
   "cell_type": "code",
   "execution_count": 68,
   "metadata": {},
   "outputs": [
    {
     "name": "stdout",
     "output_type": "stream",
     "text": [
      "This file contains 29423 words\n"
     ]
    }
   ],
   "source": [
    "filename = 'Textfiles/alice.txt'\n",
    "\n",
    "\n",
    "try:\n",
    "    with open(filename) as f_obj:\n",
    "        contents = f_obj.read()\n",
    "except FileNotFoundError:\n",
    "    print(\"The file does not exist\")\n",
    "\n",
    "else:\n",
    "    words = contents.split()\n",
    "    print(f\"This file contains {len(words)} words\") "
   ]
  },
  {
   "cell_type": "code",
   "execution_count": 73,
   "metadata": {},
   "outputs": [],
   "source": [
    "# Working with multiple files\n",
    "\n",
    "filename = 'Textfiles/alice.txt'\n",
    "\n",
    "def count_words(filename):\n",
    "    try:\n",
    "        with open(filename) as f_obj:\n",
    "            contents = f_obj.read()\n",
    "    except FileNotFoundError:\n",
    "        print(\"The file does not exist\")\n",
    "\n",
    "    else:\n",
    "        words = contents.split()\n",
    "        print(f\"This file contains {len(words)} words\") "
   ]
  },
  {
   "cell_type": "code",
   "execution_count": 74,
   "metadata": {},
   "outputs": [
    {
     "name": "stdout",
     "output_type": "stream",
     "text": [
      "This file contains 29423 words\n"
     ]
    }
   ],
   "source": [
    "count_words(filename)"
   ]
  },
  {
   "cell_type": "code",
   "execution_count": 76,
   "metadata": {},
   "outputs": [
    {
     "name": "stdout",
     "output_type": "stream",
     "text": [
      "This file contains 29423 words\n",
      "This file contains 1 words\n",
      "The file does not exist\n"
     ]
    }
   ],
   "source": [
    "filename = ['Textfiles/alice.txt', 'Textfiles/hello.txt', 'Textfiles/pie.txt']\n",
    "\n",
    "for file in filename:\n",
    "    count_words(file)   "
   ]
  },
  {
   "cell_type": "code",
   "execution_count": 77,
   "metadata": {},
   "outputs": [],
   "source": [
    "# Failing Silently"
   ]
  },
  {
   "cell_type": "code",
   "execution_count": 78,
   "metadata": {},
   "outputs": [],
   "source": [
    "def count_words(filename):\n",
    "    try:\n",
    "        with open(filename) as f_obj:\n",
    "            contents = f_obj.read()\n",
    "    except FileNotFoundError:\n",
    "        pass\n",
    "    else:\n",
    "        words = contents.split()\n",
    "        print(f\"This file contains {len(words)} words\") "
   ]
  },
  {
   "cell_type": "code",
   "execution_count": 79,
   "metadata": {},
   "outputs": [
    {
     "name": "stdout",
     "output_type": "stream",
     "text": [
      "This file contains 29423 words\n",
      "This file contains 1 words\n"
     ]
    }
   ],
   "source": [
    "filename = ['Textfiles/alice.txt', 'Textfiles/hello.txt', 'Textfiles/pie.txt']\n",
    "\n",
    "for file in filename:\n",
    "    count_words(file)   "
   ]
  },
  {
   "cell_type": "code",
   "execution_count": null,
   "metadata": {},
   "outputs": [],
   "source": []
  }
 ],
 "metadata": {
  "kernelspec": {
   "display_name": "Python 3",
   "language": "python",
   "name": "python3"
  },
  "language_info": {
   "codemirror_mode": {
    "name": "ipython",
    "version": 3
   },
   "file_extension": ".py",
   "mimetype": "text/x-python",
   "name": "python",
   "nbconvert_exporter": "python",
   "pygments_lexer": "ipython3",
   "version": "3.7.4"
  }
 },
 "nbformat": 4,
 "nbformat_minor": 2
}
