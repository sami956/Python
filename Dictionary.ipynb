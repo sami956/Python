{
 "cells": [
  {
   "cell_type": "code",
   "execution_count": 21,
   "metadata": {},
   "outputs": [],
   "source": [
    "#Creating a dictionary\n",
    "\n",
    "car ={'color' : 'red',\n",
    "      'speed' : 400,\n",
    "      'mileage': 20\n",
    "    }"
   ]
  },
  {
   "cell_type": "code",
   "execution_count": 2,
   "metadata": {},
   "outputs": [
    {
     "data": {
      "text/plain": [
       "{'color': 'red', 'speed': 400, 'mileage': 20}"
      ]
     },
     "execution_count": 2,
     "metadata": {},
     "output_type": "execute_result"
    }
   ],
   "source": [
    "car"
   ]
  },
  {
   "cell_type": "code",
   "execution_count": 6,
   "metadata": {},
   "outputs": [
    {
     "data": {
      "text/plain": [
       "400"
      ]
     },
     "execution_count": 6,
     "metadata": {},
     "output_type": "execute_result"
    }
   ],
   "source": [
    "#Accessing elements of a dictionary\n",
    "\n",
    "car['speed']"
   ]
  },
  {
   "cell_type": "markdown",
   "metadata": {},
   "source": [
    "## Adding elements to a dictionary"
   ]
  },
  {
   "cell_type": "code",
   "execution_count": 22,
   "metadata": {},
   "outputs": [],
   "source": [
    "car['horsepower'] = 350"
   ]
  },
  {
   "cell_type": "code",
   "execution_count": 8,
   "metadata": {},
   "outputs": [
    {
     "data": {
      "text/plain": [
       "{'color': 'red', 'speed': 400, 'mileage': 20, 'horsepower': 350}"
      ]
     },
     "execution_count": 8,
     "metadata": {},
     "output_type": "execute_result"
    }
   ],
   "source": [
    "car"
   ]
  },
  {
   "cell_type": "code",
   "execution_count": 9,
   "metadata": {},
   "outputs": [],
   "source": [
    "#Empty dictionary\n",
    "car = {}"
   ]
  },
  {
   "cell_type": "code",
   "execution_count": 10,
   "metadata": {},
   "outputs": [
    {
     "data": {
      "text/plain": [
       "{}"
      ]
     },
     "execution_count": 10,
     "metadata": {},
     "output_type": "execute_result"
    }
   ],
   "source": [
    "car"
   ]
  },
  {
   "cell_type": "markdown",
   "metadata": {},
   "source": [
    "## Modifying values in a dictionary"
   ]
  },
  {
   "cell_type": "code",
   "execution_count": 14,
   "metadata": {},
   "outputs": [
    {
     "data": {
      "text/plain": [
       "{'color': 'red', 'speed': 400, 'mileage': 20, 'horsepower': 350}"
      ]
     },
     "execution_count": 14,
     "metadata": {},
     "output_type": "execute_result"
    }
   ],
   "source": [
    "car"
   ]
  },
  {
   "cell_type": "code",
   "execution_count": 15,
   "metadata": {},
   "outputs": [],
   "source": [
    "car['speed'] = 350"
   ]
  },
  {
   "cell_type": "code",
   "execution_count": 16,
   "metadata": {},
   "outputs": [
    {
     "data": {
      "text/plain": [
       "{'color': 'red', 'speed': 350, 'mileage': 20, 'horsepower': 350}"
      ]
     },
     "execution_count": 16,
     "metadata": {},
     "output_type": "execute_result"
    }
   ],
   "source": [
    "car"
   ]
  },
  {
   "cell_type": "markdown",
   "metadata": {},
   "source": [
    "## Deleting key-value pairs"
   ]
  },
  {
   "cell_type": "code",
   "execution_count": 17,
   "metadata": {},
   "outputs": [
    {
     "data": {
      "text/plain": [
       "{'color': 'red', 'speed': 350, 'mileage': 20, 'horsepower': 350}"
      ]
     },
     "execution_count": 17,
     "metadata": {},
     "output_type": "execute_result"
    }
   ],
   "source": [
    "car"
   ]
  },
  {
   "cell_type": "code",
   "execution_count": 18,
   "metadata": {},
   "outputs": [],
   "source": [
    "#del keyword\n",
    "del car['mileage']"
   ]
  },
  {
   "cell_type": "code",
   "execution_count": 19,
   "metadata": {},
   "outputs": [
    {
     "data": {
      "text/plain": [
       "{'color': 'red', 'speed': 350, 'horsepower': 350}"
      ]
     },
     "execution_count": 19,
     "metadata": {},
     "output_type": "execute_result"
    }
   ],
   "source": [
    "car"
   ]
  },
  {
   "cell_type": "code",
   "execution_count": 23,
   "metadata": {},
   "outputs": [],
   "source": [
    "#pop method\n",
    "speed = car.pop('speed')"
   ]
  },
  {
   "cell_type": "code",
   "execution_count": 24,
   "metadata": {},
   "outputs": [
    {
     "data": {
      "text/plain": [
       "400"
      ]
     },
     "execution_count": 24,
     "metadata": {},
     "output_type": "execute_result"
    }
   ],
   "source": [
    "speed"
   ]
  },
  {
   "cell_type": "code",
   "execution_count": 25,
   "metadata": {},
   "outputs": [
    {
     "data": {
      "text/plain": [
       "{'color': 'red', 'mileage': 20, 'horsepower': 350}"
      ]
     },
     "execution_count": 25,
     "metadata": {},
     "output_type": "execute_result"
    }
   ],
   "source": [
    "car"
   ]
  },
  {
   "cell_type": "markdown",
   "metadata": {},
   "source": [
    "## Looping through a dictionary"
   ]
  },
  {
   "cell_type": "code",
   "execution_count": 26,
   "metadata": {},
   "outputs": [
    {
     "name": "stdout",
     "output_type": "stream",
     "text": [
      "color\n",
      "mileage\n",
      "horsepower\n"
     ]
    }
   ],
   "source": [
    "#keys\n",
    "for key in car:\n",
    "    print(key)"
   ]
  },
  {
   "cell_type": "code",
   "execution_count": 28,
   "metadata": {},
   "outputs": [
    {
     "name": "stdout",
     "output_type": "stream",
     "text": [
      "red\n",
      "20\n",
      "350\n"
     ]
    }
   ],
   "source": [
    "#values\n",
    "\n",
    "for values in car.values():\n",
    "    print(values)"
   ]
  },
  {
   "cell_type": "code",
   "execution_count": 32,
   "metadata": {},
   "outputs": [
    {
     "name": "stdout",
     "output_type": "stream",
     "text": [
      "color red\n",
      "mileage 20\n",
      "horsepower 350\n"
     ]
    }
   ],
   "source": [
    "#print keys and values\n",
    "\n",
    "for keys,values in car.items():\n",
    "    print(keys,values)"
   ]
  },
  {
   "cell_type": "markdown",
   "metadata": {},
   "source": [
    "## Nesting "
   ]
  },
  {
   "cell_type": "code",
   "execution_count": 33,
   "metadata": {},
   "outputs": [],
   "source": [
    "car1 = {'color' : 'red',\n",
    "      'speed' : 400,\n",
    "      'mileage': 20\n",
    "    }\n",
    "        \n",
    "car2 = {'color' : 'blue',\n",
    "      'speed' : 300,\n",
    "      'mileage': 18\n",
    "    }\n",
    "        \n",
    "car3 = {'color' : 'white',\n",
    "      'speed' : 250,\n",
    "      'mileage': 10\n",
    "    }"
   ]
  },
  {
   "cell_type": "code",
   "execution_count": 34,
   "metadata": {},
   "outputs": [],
   "source": [
    "#List of dictionaries\n",
    "\n",
    "cars = [car1,car2,car3]"
   ]
  },
  {
   "cell_type": "code",
   "execution_count": 37,
   "metadata": {},
   "outputs": [
    {
     "data": {
      "text/plain": [
       "[{'color': 'red', 'speed': 400, 'mileage': 20},\n",
       " {'color': 'blue', 'speed': 300, 'mileage': 18},\n",
       " {'color': 'white', 'speed': 250, 'mileage': 10}]"
      ]
     },
     "execution_count": 37,
     "metadata": {},
     "output_type": "execute_result"
    }
   ],
   "source": [
    "cars"
   ]
  },
  {
   "cell_type": "code",
   "execution_count": 38,
   "metadata": {},
   "outputs": [],
   "source": [
    "#A list inside a dictionary\n",
    "car = {'color' : 'red',\n",
    "      'speed' : 400,\n",
    "      'mileage': 20,\n",
    "      'safetyfeatures' : ['abs', 'cl','airbags'],\n",
    "      }"
   ]
  },
  {
   "cell_type": "code",
   "execution_count": 39,
   "metadata": {},
   "outputs": [
    {
     "data": {
      "text/plain": [
       "['abs', 'cl', 'airbags']"
      ]
     },
     "execution_count": 39,
     "metadata": {},
     "output_type": "execute_result"
    }
   ],
   "source": [
    "car['safetyfeatures']"
   ]
  },
  {
   "cell_type": "code",
   "execution_count": 40,
   "metadata": {},
   "outputs": [],
   "source": [
    "#Dictionary inside a dictionary\n",
    "\n",
    "users = {'user1':{'name':'sameer','age':29,'location':\"India\"},\n",
    "         'user2':{'name':'max','age':39,'location':\"US\"},\n",
    "    }"
   ]
  },
  {
   "cell_type": "code",
   "execution_count": 41,
   "metadata": {},
   "outputs": [
    {
     "data": {
      "text/plain": [
       "{'user1': {'name': 'sameer', 'age': 29, 'location': 'India'},\n",
       " 'user2': {'name': 'max', 'age': 39, 'location': 'US'}}"
      ]
     },
     "execution_count": 41,
     "metadata": {},
     "output_type": "execute_result"
    }
   ],
   "source": [
    "users"
   ]
  },
  {
   "cell_type": "code",
   "execution_count": 47,
   "metadata": {},
   "outputs": [
    {
     "name": "stdout",
     "output_type": "stream",
     "text": [
      "user1\n",
      "Name: sameer\n",
      "Age: 29\n",
      "Location: India\n",
      "\n",
      "user2\n",
      "Name: max\n",
      "Age: 39\n",
      "Location: US\n",
      "\n"
     ]
    }
   ],
   "source": [
    "for username, userinfo in users.items():\n",
    "    print(username)\n",
    "    print('Name: ' + userinfo['name'])\n",
    "    print('Age: ' + str(userinfo['age']) )\n",
    "    print('Location: ' + userinfo['location'] +'\\n' )\n",
    "    "
   ]
  },
  {
   "cell_type": "markdown",
   "metadata": {},
   "source": [
    "## Sets"
   ]
  },
  {
   "cell_type": "code",
   "execution_count": 52,
   "metadata": {},
   "outputs": [],
   "source": [
    "numbers = [1,2,3,40,40]"
   ]
  },
  {
   "cell_type": "code",
   "execution_count": 53,
   "metadata": {},
   "outputs": [],
   "source": [
    "numbers = list(set(numbers))"
   ]
  },
  {
   "cell_type": "code",
   "execution_count": 55,
   "metadata": {},
   "outputs": [],
   "source": [
    "numbers.sort()"
   ]
  },
  {
   "cell_type": "code",
   "execution_count": 56,
   "metadata": {},
   "outputs": [
    {
     "data": {
      "text/plain": [
       "[1, 2, 3, 40]"
      ]
     },
     "execution_count": 56,
     "metadata": {},
     "output_type": "execute_result"
    }
   ],
   "source": [
    "numbers"
   ]
  },
  {
   "cell_type": "code",
   "execution_count": 57,
   "metadata": {},
   "outputs": [],
   "source": [
    "num = set()"
   ]
  },
  {
   "cell_type": "code",
   "execution_count": 74,
   "metadata": {},
   "outputs": [],
   "source": [
    "num.add(11) #duplicate element"
   ]
  },
  {
   "cell_type": "code",
   "execution_count": 75,
   "metadata": {},
   "outputs": [
    {
     "data": {
      "text/plain": [
       "{2, 5, 10, 11}"
      ]
     },
     "execution_count": 75,
     "metadata": {},
     "output_type": "execute_result"
    }
   ],
   "source": [
    "num"
   ]
  },
  {
   "cell_type": "markdown",
   "metadata": {},
   "source": [
    "## Boolean"
   ]
  },
  {
   "cell_type": "code",
   "execution_count": 76,
   "metadata": {},
   "outputs": [
    {
     "data": {
      "text/plain": [
       "True"
      ]
     },
     "execution_count": 76,
     "metadata": {},
     "output_type": "execute_result"
    }
   ],
   "source": [
    "True"
   ]
  },
  {
   "cell_type": "code",
   "execution_count": 79,
   "metadata": {},
   "outputs": [
    {
     "data": {
      "text/plain": [
       "False"
      ]
     },
     "execution_count": 79,
     "metadata": {},
     "output_type": "execute_result"
    }
   ],
   "source": [
    "False"
   ]
  },
  {
   "cell_type": "code",
   "execution_count": 81,
   "metadata": {},
   "outputs": [
    {
     "data": {
      "text/plain": [
       "True"
      ]
     },
     "execution_count": 81,
     "metadata": {},
     "output_type": "execute_result"
    }
   ],
   "source": [
    "6 > 5"
   ]
  },
  {
   "cell_type": "code",
   "execution_count": 84,
   "metadata": {},
   "outputs": [],
   "source": [
    "a = 5\n",
    "b = 5"
   ]
  },
  {
   "cell_type": "code",
   "execution_count": 85,
   "metadata": {},
   "outputs": [
    {
     "data": {
      "text/plain": [
       "True"
      ]
     },
     "execution_count": 85,
     "metadata": {},
     "output_type": "execute_result"
    }
   ],
   "source": [
    "a == b #Equality operator"
   ]
  },
  {
   "cell_type": "code",
   "execution_count": 107,
   "metadata": {},
   "outputs": [],
   "source": [
    "numbers = [1,2,3,40,40,0]"
   ]
  },
  {
   "cell_type": "code",
   "execution_count": 108,
   "metadata": {},
   "outputs": [
    {
     "data": {
      "text/plain": [
       "False"
      ]
     },
     "execution_count": 108,
     "metadata": {},
     "output_type": "execute_result"
    }
   ],
   "source": [
    "all(numbers)"
   ]
  },
  {
   "cell_type": "code",
   "execution_count": 98,
   "metadata": {},
   "outputs": [],
   "source": [
    "letters = ['a','b','c','']"
   ]
  },
  {
   "cell_type": "code",
   "execution_count": 99,
   "metadata": {},
   "outputs": [
    {
     "data": {
      "text/plain": [
       "False"
      ]
     },
     "execution_count": 99,
     "metadata": {},
     "output_type": "execute_result"
    }
   ],
   "source": [
    "all(letters)"
   ]
  },
  {
   "cell_type": "code",
   "execution_count": 112,
   "metadata": {},
   "outputs": [
    {
     "data": {
      "text/plain": [
       "False"
      ]
     },
     "execution_count": 112,
     "metadata": {},
     "output_type": "execute_result"
    }
   ],
   "source": [
    "bool('')"
   ]
  },
  {
   "cell_type": "markdown",
   "metadata": {},
   "source": [
    "## None Type"
   ]
  },
  {
   "cell_type": "code",
   "execution_count": 115,
   "metadata": {},
   "outputs": [],
   "source": [
    "variable = None"
   ]
  },
  {
   "cell_type": "code",
   "execution_count": 116,
   "metadata": {},
   "outputs": [
    {
     "data": {
      "text/plain": [
       "NoneType"
      ]
     },
     "execution_count": 116,
     "metadata": {},
     "output_type": "execute_result"
    }
   ],
   "source": [
    "type(variable)"
   ]
  },
  {
   "cell_type": "code",
   "execution_count": 121,
   "metadata": {},
   "outputs": [
    {
     "name": "stdout",
     "output_type": "stream",
     "text": [
      "\n"
     ]
    },
    {
     "data": {
      "text/plain": [
       "NoneType"
      ]
     },
     "execution_count": 121,
     "metadata": {},
     "output_type": "execute_result"
    }
   ],
   "source": [
    "type(print())"
   ]
  },
  {
   "cell_type": "code",
   "execution_count": 122,
   "metadata": {},
   "outputs": [
    {
     "name": "stdout",
     "output_type": "stream",
     "text": [
      "hello\n"
     ]
    }
   ],
   "source": [
    "print(\"hello\")"
   ]
  },
  {
   "cell_type": "code",
   "execution_count": 119,
   "metadata": {},
   "outputs": [
    {
     "data": {
      "text/plain": [
       "{2: {'color': 'red', 'speed': 400, 'mileage': 20, 'horsepower': 350},\n",
       " 4: 'red',\n",
       " 5: 400,\n",
       " 6: 400,\n",
       " 8: {'color': 'red', 'speed': 400, 'mileage': 20, 'horsepower': 350},\n",
       " 10: {},\n",
       " 12: {'color': 'red', 'horsepower': 350},\n",
       " 14: {'color': 'red', 'horsepower': 350},\n",
       " 16: {'color': 'red', 'horsepower': 350},\n",
       " 17: {'color': 'red', 'horsepower': 350},\n",
       " 19: {'color': 'red', 'horsepower': 350},\n",
       " 20: 350,\n",
       " 24: 400,\n",
       " 25: {'color': 'red', 'mileage': 20, 'horsepower': 350},\n",
       " 27: dict_values(['red', 20, 350]),\n",
       " 29: dict_items([('color', 'red'), ('mileage', 20), ('horsepower', 350)]),\n",
       " 35: [{'color': 'red', 'speed': 400, 'mileage': 20},\n",
       "  {'color': 'blue', 'speed': 300, 'mileage': 18},\n",
       "  {'color': 'white', 'speed': 250, 'mileage': 10}],\n",
       " 36: {'color': 'red', 'speed': 400, 'mileage': 20},\n",
       " 37: [{'color': 'red', 'speed': 400, 'mileage': 20},\n",
       "  {'color': 'blue', 'speed': 300, 'mileage': 18},\n",
       "  {'color': 'white', 'speed': 250, 'mileage': 10}],\n",
       " 39: ['abs', 'cl', 'airbags'],\n",
       " 41: {'user1': {'name': 'sameer', 'age': 29, 'location': 'India'},\n",
       "  'user2': {'name': 'max', 'age': 39, 'location': 'US'}},\n",
       " 49: {1, 2, 3, 40},\n",
       " 51: {1, 2, 3, 40},\n",
       " 54: [1, 2, 3, 40],\n",
       " 56: [1, 2, 3, 40],\n",
       " 58: set,\n",
       " 59: {2, 5, 10, 11},\n",
       " 61: {2, 5, 10, 11},\n",
       " 63: {2, 5, 10, 11},\n",
       " 65: {2, 5, 10, 11},\n",
       " 67: {2, 5, 10, 11},\n",
       " 69: {2, 5, 10, 11},\n",
       " 71: {2, 5, 10, 11},\n",
       " 73: {2, 5, 10, 11},\n",
       " 75: {2, 5, 10, 11},\n",
       " 76: True,\n",
       " 77: False,\n",
       " 78: bool,\n",
       " 79: False,\n",
       " 80: False,\n",
       " 81: True,\n",
       " 83: False,\n",
       " 85: True,\n",
       " 87: True,\n",
       " 89: False,\n",
       " 92: False,\n",
       " 93: True,\n",
       " 95: False,\n",
       " 97: True,\n",
       " 99: False,\n",
       " 101: True,\n",
       " 102: False,\n",
       " 103: True,\n",
       " 104: False,\n",
       " 106: True,\n",
       " 108: False,\n",
       " 109: False,\n",
       " 110: True,\n",
       " 111: True,\n",
       " 112: False,\n",
       " 116: NoneType,\n",
       " 117: NoneType,\n",
       " 118: ['',\n",
       "  \"#Creating a dictionary\\n\\ncar ={'color' : 'red',\\n      'speed' : 400,\\n      'mileage': 20\\n    }\",\n",
       "  'car',\n",
       "  'car[0]',\n",
       "  \"car['color']\",\n",
       "  \"car['speed']\",\n",
       "  \"#Accessing elements of a dictionary\\n\\ncar['speed']\",\n",
       "  \"car['horsepower'] = 350\",\n",
       "  'car',\n",
       "  '#Empty dictionary\\ncar = {}',\n",
       "  'car',\n",
       "  \"#Creating a dictionary\\n\\ncar ={'color' : 'red',\\n      'speed' : 400,\\n      'mileage': 20\\n    }\",\n",
       "  'car',\n",
       "  \"car['horsepower'] = 350\",\n",
       "  'car',\n",
       "  \"car['speed'] = 350\",\n",
       "  'car',\n",
       "  'car',\n",
       "  \"del car['mileage']\",\n",
       "  'car',\n",
       "  \"car.pop('speed')\",\n",
       "  \"#Creating a dictionary\\n\\ncar ={'color' : 'red',\\n      'speed' : 400,\\n      'mileage': 20\\n    }\",\n",
       "  \"car['horsepower'] = 350\",\n",
       "  \"speed = car.pop('speed')\",\n",
       "  'speed',\n",
       "  'car',\n",
       "  'for key in car:\\n    print(key)',\n",
       "  '#values\\n\\ncar.values()',\n",
       "  '#values\\n\\nfor values in car.values():\\n    print(values)',\n",
       "  '#print keys and values\\n\\ncar.items()',\n",
       "  '#print keys and values\\n\\nfor keys in car.items():\\n    print(keys)',\n",
       "  '#print keys and values\\n\\nfor v in car.items():\\n    print(v)',\n",
       "  '#print keys and values\\n\\nfor keys,values in car.items():\\n    print(keys,values)',\n",
       "  \"car1 = {'color' : 'red',\\n      'speed' : 400,\\n      'mileage': 20\\n    }\\n        \\ncar2 = {'color' : 'blue',\\n      'speed' : 300,\\n      'mileage': 18\\n    }\\n        \\ncar3 = {'color' : 'white',\\n      'speed' : 250,\\n      'mileage': 10\\n    }\",\n",
       "  '#List of dictionaries\\n\\ncars = [car1,car2,car3]',\n",
       "  'cars',\n",
       "  'cars[0]',\n",
       "  'cars',\n",
       "  \"car = {'color' : 'red',\\n      'speed' : 400,\\n      'mileage': 20,\\n      'safetyfeatures' : ['abs', 'cl','airbags'],\\n      }\",\n",
       "  \"car['safetyfeatures']\",\n",
       "  '#Dictionary inside a dictionary\\n\\nusers = {\\'user1\\':{\\'name\\':\\'sameer\\',\\'age\\':29,\\'location\\':\"India\"},\\n         \\'user2\\':{\\'name\\':\\'max\\',\\'age\\':39,\\'location\\':\"US\"},\\n    }',\n",
       "  'users',\n",
       "  'for username, userinfo in users.items():\\n    print(username)\\n    ',\n",
       "  \"for username, userinfo in users.items():\\n    print(username)\\n    print('Name' + userinfo['name'] )\\n    \",\n",
       "  \"for username, userinfo in users.items():\\n    print(username)\\n    print('Name: ' + userinfo['name'] +'\\\\n' )\\n    \",\n",
       "  \"for username, userinfo in users.items():\\n    print(username)\\n    print('Name: ' + userinfo['name'] +'\\\\n' )\\n    print('Age: ' + userinfo['age'] +'\\\\n' )\\n    print('Location: ' + userinfo['location'] +'\\\\n' )\\n    \",\n",
       "  \"for username, userinfo in users.items():\\n    print(username)\\n    print('Name: ' + userinfo['name'] +'\\\\n' )\\n    print('Age: ' + str(userinfo['age']) +'\\\\n' )\\n    print('Location: ' + userinfo['location'] +'\\\\n' )\\n    \",\n",
       "  \"for username, userinfo in users.items():\\n    print(username)\\n    print('Name: ' + userinfo['name'])\\n    print('Age: ' + str(userinfo['age']) )\\n    print('Location: ' + userinfo['location'] +'\\\\n' )\\n    \",\n",
       "  'numbers = [1,2,3,40,40]',\n",
       "  'set(numbers)',\n",
       "  'numbers = set(numbers)',\n",
       "  'numbers',\n",
       "  'numbers = [1,2,3,40,40]',\n",
       "  'numbers = list(set(numbers))',\n",
       "  'numbers',\n",
       "  'numbers.sort()',\n",
       "  'numbers',\n",
       "  'num = set()',\n",
       "  'type(num)',\n",
       "  'num',\n",
       "  'num.add(2)',\n",
       "  'num',\n",
       "  'num.add(5)',\n",
       "  'num',\n",
       "  'num.add(10)',\n",
       "  'num',\n",
       "  'num.add(10) #duplicate element',\n",
       "  'num',\n",
       "  'num.add(10) #duplicate element',\n",
       "  'num',\n",
       "  'num.add(10) #duplicate element',\n",
       "  'num',\n",
       "  'num.add(11) #duplicate element',\n",
       "  'num',\n",
       "  'num.add(11) #duplicate element',\n",
       "  'num',\n",
       "  'True',\n",
       "  'False',\n",
       "  'type(False)',\n",
       "  'False',\n",
       "  '4 > 5',\n",
       "  '6 > 5',\n",
       "  'a = 5\\nb = 6',\n",
       "  'a == b #Equality operator',\n",
       "  'a = 5\\nb = 5',\n",
       "  'a == b #Equality operator',\n",
       "  'numbers = [1,2,3,40,40]',\n",
       "  'all(numbers)',\n",
       "  'numbers = [1,2,3,40,40,0]',\n",
       "  'all(numbers)',\n",
       "  \"letters = ['a','b','c']\",\n",
       "  \"letters = ['a','b','c']\",\n",
       "  'all(numbers)',\n",
       "  'all(letters)',\n",
       "  \"letters = ['a','b','c','']\",\n",
       "  'all(letters)',\n",
       "  \"letters = ['a','b','c',' ']\",\n",
       "  'all(letters)',\n",
       "  \"letters = ['a','b','c','']\",\n",
       "  'all(letters)',\n",
       "  'numbers = [1,2,3,40,40]',\n",
       "  'bool(1)',\n",
       "  'bool(0)',\n",
       "  'bool(-1)',\n",
       "  'bool(0)',\n",
       "  'numbers = [1,2,3,40,40]',\n",
       "  'all(numbers)',\n",
       "  'numbers = [1,2,3,40,40,0]',\n",
       "  'all(numbers)',\n",
       "  \"bool('')\",\n",
       "  \"bool('a')\",\n",
       "  \"bool(' ')\",\n",
       "  \"bool('')\",\n",
       "  'variable',\n",
       "  'variable = None',\n",
       "  'variable = None',\n",
       "  'type(variable)',\n",
       "  'type(print())',\n",
       "  'In',\n",
       "  'Out']}"
      ]
     },
     "execution_count": 119,
     "metadata": {},
     "output_type": "execute_result"
    }
   ],
   "source": [
    "Out"
   ]
  },
  {
   "cell_type": "code",
   "execution_count": null,
   "metadata": {},
   "outputs": [],
   "source": []
  },
  {
   "cell_type": "code",
   "execution_count": null,
   "metadata": {},
   "outputs": [],
   "source": []
  },
  {
   "cell_type": "markdown",
   "metadata": {},
   "source": [
    "## User Inputs"
   ]
  },
  {
   "cell_type": "code",
   "execution_count": 127,
   "metadata": {},
   "outputs": [
    {
     "name": "stdout",
     "output_type": "stream",
     "text": [
      "Enter your name: sameer\n",
      "Hi Sameer\n"
     ]
    }
   ],
   "source": [
    "#input() function\n",
    "\n",
    "name = input(\"Enter your name: \")\n",
    "print(f\"Hi {name.title()}\")"
   ]
  },
  {
   "cell_type": "code",
   "execution_count": 124,
   "metadata": {},
   "outputs": [
    {
     "data": {
      "text/plain": [
       "'sameer'"
      ]
     },
     "execution_count": 124,
     "metadata": {},
     "output_type": "execute_result"
    }
   ],
   "source": [
    "name"
   ]
  },
  {
   "cell_type": "code",
   "execution_count": 131,
   "metadata": {},
   "outputs": [
    {
     "name": "stdout",
     "output_type": "stream",
     "text": [
      "Tell me your age and I'll tell your if you are eligible to vote\n",
      "\n",
      "              What is your age?: 20\n"
     ]
    }
   ],
   "source": [
    "#Writing a clear prompt\n",
    "\n",
    "prompt = '''Tell me your age and I'll tell your if you are eligible to vote\\n\n",
    "              What is your age?: '''\n",
    "\n",
    "age = input(prompt)"
   ]
  },
  {
   "cell_type": "code",
   "execution_count": 135,
   "metadata": {},
   "outputs": [],
   "source": [
    "age = int(age)"
   ]
  },
  {
   "cell_type": "code",
   "execution_count": 137,
   "metadata": {},
   "outputs": [
    {
     "data": {
      "text/plain": [
       "int"
      ]
     },
     "execution_count": 137,
     "metadata": {},
     "output_type": "execute_result"
    }
   ],
   "source": [
    "type(age)"
   ]
  },
  {
   "cell_type": "code",
   "execution_count": 138,
   "metadata": {},
   "outputs": [
    {
     "name": "stdout",
     "output_type": "stream",
     "text": [
      "Tell me your age and I'll tell your if you are eligible to vote\n",
      "\n",
      "              What is your age?: 20\n"
     ]
    }
   ],
   "source": [
    "prompt = '''Tell me your age and I'll tell your if you are eligible to vote\\n\n",
    "              What is your age?: '''\n",
    "\n",
    "age = int(input(prompt))"
   ]
  },
  {
   "cell_type": "code",
   "execution_count": 140,
   "metadata": {},
   "outputs": [
    {
     "data": {
      "text/plain": [
       "int"
      ]
     },
     "execution_count": 140,
     "metadata": {},
     "output_type": "execute_result"
    }
   ],
   "source": [
    "type(age)"
   ]
  },
  {
   "cell_type": "code",
   "execution_count": 147,
   "metadata": {},
   "outputs": [
    {
     "name": "stdout",
     "output_type": "stream",
     "text": [
      "Tell me a number and I'll tell you if it is even or odd\n",
      "\n",
      "              What is the number?: 33\n"
     ]
    }
   ],
   "source": [
    "prompt = '''Tell me a number and I'll tell you if it is even or odd\\n\n",
    "              What is the number?: '''\n",
    "\n",
    "number = int(input(prompt))"
   ]
  },
  {
   "cell_type": "code",
   "execution_count": 148,
   "metadata": {},
   "outputs": [
    {
     "name": "stdout",
     "output_type": "stream",
     "text": [
      "33 is odd\n"
     ]
    }
   ],
   "source": [
    "if number % 2 == 0:   #Modulo operator\n",
    "    print(f\"{number} is even\")\n",
    "else:\n",
    "    print(f\"{number} is odd\")"
   ]
  },
  {
   "cell_type": "code",
   "execution_count": null,
   "metadata": {},
   "outputs": [],
   "source": []
  },
  {
   "cell_type": "code",
   "execution_count": null,
   "metadata": {},
   "outputs": [],
   "source": []
  }
 ],
 "metadata": {
  "kernelspec": {
   "display_name": "Python 3",
   "language": "python",
   "name": "python3"
  },
  "language_info": {
   "codemirror_mode": {
    "name": "ipython",
    "version": 3
   },
   "file_extension": ".py",
   "mimetype": "text/x-python",
   "name": "python",
   "nbconvert_exporter": "python",
   "pygments_lexer": "ipython3",
   "version": "3.7.4"
  }
 },
 "nbformat": 4,
 "nbformat_minor": 2
}
