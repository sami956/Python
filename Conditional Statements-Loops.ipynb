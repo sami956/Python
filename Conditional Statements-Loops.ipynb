{
 "cells": [
  {
   "cell_type": "code",
   "execution_count": 1,
   "metadata": {},
   "outputs": [],
   "source": [
    "list1 = [1,2,3,5,6,8,10]"
   ]
  },
  {
   "cell_type": "code",
   "execution_count": 4,
   "metadata": {},
   "outputs": [
    {
     "name": "stdout",
     "output_type": "stream",
     "text": [
      "1\n",
      "2\n",
      "3\n",
      "5\n",
      "6\n",
      "8\n",
      "10\n"
     ]
    }
   ],
   "source": [
    "#Iterate through a list\n",
    "for y in list1:\n",
    "    print(y)"
   ]
  },
  {
   "cell_type": "code",
   "execution_count": 8,
   "metadata": {},
   "outputs": [
    {
     "name": "stdout",
     "output_type": "stream",
     "text": [
      "1 is odd number\n",
      "3 is odd number\n",
      "5 is odd number\n"
     ]
    }
   ],
   "source": [
    "for num in list1:  #only fot iteration\n",
    "    if num % 2  != 0:\n",
    "        print(f\"{num} is odd number\")"
   ]
  },
  {
   "cell_type": "code",
   "execution_count": 10,
   "metadata": {},
   "outputs": [
    {
     "data": {
      "text/plain": [
       "[1, 2, 3, 5, 6, 8, 10]"
      ]
     },
     "execution_count": 10,
     "metadata": {},
     "output_type": "execute_result"
    }
   ],
   "source": [
    "list1"
   ]
  },
  {
   "cell_type": "code",
   "execution_count": 15,
   "metadata": {},
   "outputs": [
    {
     "name": "stdout",
     "output_type": "stream",
     "text": [
      "35\n"
     ]
    }
   ],
   "source": [
    "sum_num = 0\n",
    "\n",
    "for num in list1:\n",
    "    sum_num += num\n",
    "    \n",
    "print(sum_num)"
   ]
  },
  {
   "cell_type": "code",
   "execution_count": 17,
   "metadata": {},
   "outputs": [],
   "source": [
    "#Iterate through a string\n",
    "name = \"sammer kumar\""
   ]
  },
  {
   "cell_type": "code",
   "execution_count": 18,
   "metadata": {},
   "outputs": [
    {
     "name": "stdout",
     "output_type": "stream",
     "text": [
      "s\n",
      "a\n",
      "m\n",
      "m\n",
      "e\n",
      "r\n",
      " \n",
      "k\n",
      "u\n",
      "m\n",
      "a\n",
      "r\n"
     ]
    }
   ],
   "source": [
    "for letter in name:\n",
    "    print(letter)"
   ]
  },
  {
   "cell_type": "code",
   "execution_count": 19,
   "metadata": {},
   "outputs": [],
   "source": [
    "#Iterate through a tuple\n",
    "\n",
    "triangle = (5,6,9)"
   ]
  },
  {
   "cell_type": "code",
   "execution_count": 20,
   "metadata": {},
   "outputs": [
    {
     "name": "stdout",
     "output_type": "stream",
     "text": [
      "5\n",
      "6\n",
      "9\n"
     ]
    }
   ],
   "source": [
    "for side in triangle:\n",
    "    print(side)"
   ]
  },
  {
   "cell_type": "code",
   "execution_count": 21,
   "metadata": {},
   "outputs": [],
   "source": [
    "#Iterate through a list of tuples\n",
    "\n",
    "list2 = [(1,2),(3,4),(5,6)]"
   ]
  },
  {
   "cell_type": "code",
   "execution_count": 22,
   "metadata": {},
   "outputs": [
    {
     "name": "stdout",
     "output_type": "stream",
     "text": [
      "(1, 2)\n",
      "(3, 4)\n",
      "(5, 6)\n"
     ]
    }
   ],
   "source": [
    "for item in list2:\n",
    "    print(item)"
   ]
  },
  {
   "cell_type": "code",
   "execution_count": 25,
   "metadata": {},
   "outputs": [
    {
     "name": "stdout",
     "output_type": "stream",
     "text": [
      "1\n",
      "3\n",
      "5\n"
     ]
    }
   ],
   "source": [
    "for a,b in list2:\n",
    "    print(a)"
   ]
  },
  {
   "cell_type": "code",
   "execution_count": 26,
   "metadata": {},
   "outputs": [],
   "source": [
    "list2 = [(1,2,4),(3,4,8),(5,6,9)]"
   ]
  },
  {
   "cell_type": "code",
   "execution_count": 28,
   "metadata": {},
   "outputs": [
    {
     "name": "stdout",
     "output_type": "stream",
     "text": [
      "4\n",
      "8\n",
      "9\n"
     ]
    }
   ],
   "source": [
    "for a,b,c in list2:\n",
    "    print(c)"
   ]
  },
  {
   "cell_type": "code",
   "execution_count": 29,
   "metadata": {},
   "outputs": [],
   "source": [
    "#Iterate through a dictionary\n",
    "\n",
    "dict1 = {'k1' : 3,'k2': 5, 'k3' : 'a'}"
   ]
  },
  {
   "cell_type": "code",
   "execution_count": 30,
   "metadata": {},
   "outputs": [
    {
     "name": "stdout",
     "output_type": "stream",
     "text": [
      "k1\n",
      "k2\n",
      "k3\n"
     ]
    }
   ],
   "source": [
    "for keys in dict1:\n",
    "    print(keys)"
   ]
  },
  {
   "cell_type": "code",
   "execution_count": 32,
   "metadata": {},
   "outputs": [
    {
     "name": "stdout",
     "output_type": "stream",
     "text": [
      "3\n",
      "5\n",
      "a\n"
     ]
    }
   ],
   "source": [
    "for value in dict1.values():\n",
    "    print(value)"
   ]
  },
  {
   "cell_type": "code",
   "execution_count": 33,
   "metadata": {},
   "outputs": [
    {
     "name": "stdout",
     "output_type": "stream",
     "text": [
      "k1 3\n",
      "k2 5\n",
      "k3 a\n"
     ]
    }
   ],
   "source": [
    "for key, value in dict1.items():\n",
    "    print(key,value)"
   ]
  },
  {
   "cell_type": "markdown",
   "metadata": {},
   "source": [
    "## While Loops"
   ]
  },
  {
   "cell_type": "code",
   "execution_count": 34,
   "metadata": {},
   "outputs": [
    {
     "name": "stdout",
     "output_type": "stream",
     "text": [
      "0\n",
      "1\n",
      "2\n",
      "3\n",
      "4\n",
      "5\n",
      "6\n",
      "7\n",
      "8\n",
      "9\n"
     ]
    }
   ],
   "source": [
    "count = 0\n",
    "\n",
    "while count < 10:\n",
    "    print(count)\n",
    "    count += 1"
   ]
  },
  {
   "cell_type": "code",
   "execution_count": 2,
   "metadata": {},
   "outputs": [
    {
     "name": "stdout",
     "output_type": "stream",
     "text": [
      "Find squares of numbers:\n",
      "\n",
      "Enter 0 to exit\n",
      "\n",
      "Enter a number to find its square: 9\n",
      "\n",
      "Square of the number is: 81\n",
      "Enter a number to find its square: 3\n",
      "\n",
      "Square of the number is: 9\n",
      "Enter a number to find its square: 4\n",
      "\n",
      "Square of the number is: 16\n",
      "Enter a number to find its square: 0\n",
      "\n",
      "Square of the number is: 0\n"
     ]
    }
   ],
   "source": [
    "print(\"Find squares of numbers:\\n\")\n",
    "print(\"Enter 0 to exit\\n\")\n",
    "\n",
    "number = None\n",
    "\n",
    "while number != 0:\n",
    "    \n",
    "    number = int(input(\"Enter a number to find its square: \"))\n",
    "    \n",
    "    print(f'\\nSquare of the number is: {number ** 2}')"
   ]
  },
  {
   "cell_type": "code",
   "execution_count": 5,
   "metadata": {},
   "outputs": [
    {
     "name": "stdout",
     "output_type": "stream",
     "text": [
      "Find squares of numbers:\n",
      "\n",
      "Enter 0 to exit\n",
      "\n",
      "Enter a number to find its square: 5\n",
      "\n",
      "Square of the number is: 25\n",
      "Enter a number to find its square: 4\n",
      "\n",
      "Square of the number is: 16\n",
      "Enter a number to find its square: 0\n",
      "Loop ended\n"
     ]
    }
   ],
   "source": [
    "# Using flags to exit while loop\n",
    "\n",
    "print(\"Find squares of numbers:\\n\")\n",
    "print(\"Enter 0 to exit\\n\")\n",
    "\n",
    "number = None\n",
    "\n",
    "user_active = True #flag\n",
    "\n",
    "while user_active:\n",
    "    \n",
    "    number = int(input(\"Enter a number to find its square: \"))\n",
    "    \n",
    "    if number == 0:\n",
    "        user_active = False\n",
    "        print(\"Loop ended\")\n",
    "    \n",
    "    else:\n",
    "        print(f'\\nSquare of the number is: {number ** 2}')"
   ]
  },
  {
   "cell_type": "markdown",
   "metadata": {},
   "source": [
    "### Break "
   ]
  },
  {
   "cell_type": "code",
   "execution_count": 9,
   "metadata": {},
   "outputs": [
    {
     "name": "stdout",
     "output_type": "stream",
     "text": [
      "Enter quit to exit\n",
      "Enter your name: sameer\n",
      "Your name is sameer\n",
      "Enter your name: max\n",
      "Your name is max\n",
      "Enter your name: tom\n",
      "Your name is tom\n",
      "Enter your name: quit\n"
     ]
    }
   ],
   "source": [
    "print(\"Enter quit to exit\")\n",
    "\n",
    "names = []\n",
    "\n",
    "while True:\n",
    "    \n",
    "    name = input(\"Enter your name: \")\n",
    "    \n",
    "    if name == 'quit':\n",
    "        break                      #exits the loop\n",
    "\n",
    "    else:\n",
    "        print(f\"Your name is {name}\")\n",
    "        names.append(name)"
   ]
  },
  {
   "cell_type": "markdown",
   "metadata": {},
   "source": [
    "### Continue"
   ]
  },
  {
   "cell_type": "code",
   "execution_count": 10,
   "metadata": {
    "scrolled": true
   },
   "outputs": [
    {
     "name": "stdout",
     "output_type": "stream",
     "text": [
      "7\n",
      "5\n",
      "3\n",
      "1\n"
     ]
    }
   ],
   "source": [
    "list1 = [1,2,3,4,5,6,7,8]\n",
    "\n",
    "while list1:\n",
    "    num = list1.pop()\n",
    "    if num % 2 == 0:\n",
    "        continue       #current iteration of the loop will be skipped\n",
    "        \n",
    "    else:\n",
    "        print(num)"
   ]
  },
  {
   "cell_type": "markdown",
   "metadata": {},
   "source": [
    "## While Loops with Lists and Dictionaries"
   ]
  },
  {
   "cell_type": "code",
   "execution_count": 12,
   "metadata": {},
   "outputs": [],
   "source": [
    "#Move elements from one list to another\n",
    "\n",
    "non_active_users = ['sam', 'max', 'tom']\n",
    "\n",
    "active_users = []"
   ]
  },
  {
   "cell_type": "code",
   "execution_count": 13,
   "metadata": {},
   "outputs": [],
   "source": [
    "while non_active_users:\n",
    "    \n",
    "    current_user = non_active_users.pop()\n",
    "    \n",
    "    active_users.append(current_user)"
   ]
  },
  {
   "cell_type": "code",
   "execution_count": 14,
   "metadata": {},
   "outputs": [
    {
     "data": {
      "text/plain": [
       "['tom', 'max', 'sam']"
      ]
     },
     "execution_count": 14,
     "metadata": {},
     "output_type": "execute_result"
    }
   ],
   "source": [
    "active_users"
   ]
  },
  {
   "cell_type": "code",
   "execution_count": 23,
   "metadata": {},
   "outputs": [],
   "source": [
    "# Remove duplicate values\n",
    "\n",
    "cars = ['maruti', 'honda', 'tata', 'tata']"
   ]
  },
  {
   "cell_type": "code",
   "execution_count": 19,
   "metadata": {},
   "outputs": [
    {
     "data": {
      "text/plain": [
       "['honda', 'maruti', 'tata']"
      ]
     },
     "execution_count": 19,
     "metadata": {},
     "output_type": "execute_result"
    }
   ],
   "source": [
    "sorted(list(set(cars)))"
   ]
  },
  {
   "cell_type": "code",
   "execution_count": 21,
   "metadata": {},
   "outputs": [],
   "source": [
    "for car in cars:  #ONLY FOR ITERATION\n",
    "    if car == 'tata':\n",
    "        cars.remove(car)"
   ]
  },
  {
   "cell_type": "code",
   "execution_count": 22,
   "metadata": {},
   "outputs": [
    {
     "data": {
      "text/plain": [
       "['maruti', 'honda', 'tata']"
      ]
     },
     "execution_count": 22,
     "metadata": {},
     "output_type": "execute_result"
    }
   ],
   "source": [
    "cars"
   ]
  },
  {
   "cell_type": "code",
   "execution_count": 24,
   "metadata": {},
   "outputs": [],
   "source": [
    "while 'tata' in cars:\n",
    "    cars.remove('tata')"
   ]
  },
  {
   "cell_type": "code",
   "execution_count": 25,
   "metadata": {},
   "outputs": [
    {
     "data": {
      "text/plain": [
       "['maruti', 'honda']"
      ]
     },
     "execution_count": 25,
     "metadata": {},
     "output_type": "execute_result"
    }
   ],
   "source": [
    "cars"
   ]
  },
  {
   "cell_type": "code",
   "execution_count": 26,
   "metadata": {},
   "outputs": [],
   "source": [
    "#Fill a dictionary using while loop"
   ]
  },
  {
   "cell_type": "code",
   "execution_count": 31,
   "metadata": {},
   "outputs": [
    {
     "name": "stdout",
     "output_type": "stream",
     "text": [
      "Enter your name: sam\n",
      "Enter your city: delhi\n",
      "Do you want another user to enter(yes/no): nnnn\n",
      "Please enter yes or no\n",
      "Do you want another user to enter(yes/no): iiii\n",
      "Please enter yes or no\n",
      "Do you want another user to enter(yes/no): no\n"
     ]
    }
   ],
   "source": [
    "responses = {}\n",
    "\n",
    "\n",
    "while True:\n",
    "    \n",
    "    name = input(\"Enter your name: \")\n",
    "    \n",
    "    city = input(\"Enter your city: \")\n",
    "    \n",
    "    \n",
    "    responses[name] = city\n",
    "    \n",
    "    next_user = input(\"Do you want another user to enter(yes/no): \")\n",
    "    \n",
    "    while next_user not in ['yes', 'no']:\n",
    "        print(\"Please enter yes or no\")\n",
    "        next_user = input(\"Do you want another user to enter(yes/no): \")\n",
    "    \n",
    "    if next_user == 'no':\n",
    "        break"
   ]
  },
  {
   "cell_type": "code",
   "execution_count": 32,
   "metadata": {},
   "outputs": [
    {
     "data": {
      "text/plain": [
       "{'sam': 'delhi'}"
      ]
     },
     "execution_count": 32,
     "metadata": {},
     "output_type": "execute_result"
    }
   ],
   "source": [
    "responses"
   ]
  },
  {
   "cell_type": "code",
   "execution_count": null,
   "metadata": {},
   "outputs": [],
   "source": []
  }
 ],
 "metadata": {
  "kernelspec": {
   "display_name": "Python 3",
   "language": "python",
   "name": "python3"
  },
  "language_info": {
   "codemirror_mode": {
    "name": "ipython",
    "version": 3
   },
   "file_extension": ".py",
   "mimetype": "text/x-python",
   "name": "python",
   "nbconvert_exporter": "python",
   "pygments_lexer": "ipython3",
   "version": "3.7.4"
  }
 },
 "nbformat": 4,
 "nbformat_minor": 2
}
