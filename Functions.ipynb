{
 "cells": [
  {
   "cell_type": "code",
   "execution_count": 8,
   "metadata": {},
   "outputs": [],
   "source": [
    "#Defining a Function\n",
    "\n",
    "def hello_world():\n",
    "    '''Function that prints Hello World'''\n",
    "    print('Hello World')"
   ]
  },
  {
   "cell_type": "code",
   "execution_count": 3,
   "metadata": {},
   "outputs": [
    {
     "name": "stdout",
     "output_type": "stream",
     "text": [
      "Hello World\n"
     ]
    }
   ],
   "source": [
    "#Function call\n",
    "hello_world()"
   ]
  },
  {
   "cell_type": "code",
   "execution_count": 6,
   "metadata": {},
   "outputs": [],
   "source": [
    "#Source code\n",
    "hello_world??"
   ]
  },
  {
   "cell_type": "code",
   "execution_count": 11,
   "metadata": {},
   "outputs": [],
   "source": [
    "# Pass information to a function\n",
    "\n",
    "def hello_user(name): #parameter = name\n",
    "    '''Prints name of a user'''\n",
    "    print('Hello ' + name)    "
   ]
  },
  {
   "cell_type": "code",
   "execution_count": 12,
   "metadata": {},
   "outputs": [
    {
     "name": "stdout",
     "output_type": "stream",
     "text": [
      "Hello sameer\n"
     ]
    }
   ],
   "source": [
    "hello_user('sameer')"
   ]
  },
  {
   "cell_type": "markdown",
   "metadata": {},
   "source": [
    "## Arguments and Parameters"
   ]
  },
  {
   "cell_type": "code",
   "execution_count": 19,
   "metadata": {},
   "outputs": [],
   "source": [
    "#Positional arguments\n",
    "\n",
    "def get_car(car_name, car_type):\n",
    "    '''Prints car details'''\n",
    "    print(\"My car name is \" + car_name.title())\n",
    "    print(\"The car type is \" + car_type)"
   ]
  },
  {
   "cell_type": "code",
   "execution_count": 22,
   "metadata": {},
   "outputs": [
    {
     "name": "stdout",
     "output_type": "stream",
     "text": [
      "My car name is Fortuner\n",
      "The car type is SUV\n"
     ]
    }
   ],
   "source": [
    "get_car('fortuner','SUV') #pass arguments in order \n",
    "\n",
    "#Order Matters"
   ]
  },
  {
   "cell_type": "code",
   "execution_count": 23,
   "metadata": {},
   "outputs": [
    {
     "name": "stdout",
     "output_type": "stream",
     "text": [
      "My car name is Swift\n",
      "The car type is hatchback\n"
     ]
    }
   ],
   "source": [
    "#Multiple calls\n",
    "get_car('swift', 'hatchback')"
   ]
  },
  {
   "cell_type": "code",
   "execution_count": 24,
   "metadata": {},
   "outputs": [],
   "source": [
    "#Keyword Arguments\n",
    "\n",
    "def get_car(car_name, car_type):\n",
    "    '''Prints car details'''\n",
    "    print(\"My car name is \" + car_name.title())\n",
    "    print(\"The car type is \" + car_type)"
   ]
  },
  {
   "cell_type": "code",
   "execution_count": 26,
   "metadata": {},
   "outputs": [
    {
     "name": "stdout",
     "output_type": "stream",
     "text": [
      "My car name is Toyota\n",
      "The car type is Sedan\n"
     ]
    }
   ],
   "source": [
    "get_car(car_type = 'Sedan',car_name = 'toyota') #Order does not matter"
   ]
  },
  {
   "cell_type": "code",
   "execution_count": 32,
   "metadata": {},
   "outputs": [],
   "source": [
    "#Default arguments\n",
    "\n",
    "def get_car(car_name, car_type = 'Sedan'): #default value #the last parameter\n",
    "    '''Prints car details'''\n",
    "    print(\"My car name is \" + car_name.title())\n",
    "    print(\"The car type is \" + car_type)"
   ]
  },
  {
   "cell_type": "code",
   "execution_count": 29,
   "metadata": {},
   "outputs": [
    {
     "name": "stdout",
     "output_type": "stream",
     "text": [
      "My car name is Civic\n",
      "The car type is Sedan\n"
     ]
    }
   ],
   "source": [
    "get_car('Civic')"
   ]
  },
  {
   "cell_type": "code",
   "execution_count": 30,
   "metadata": {},
   "outputs": [
    {
     "name": "stdout",
     "output_type": "stream",
     "text": [
      "My car name is Xuv\n",
      "The car type is SUV\n"
     ]
    }
   ],
   "source": [
    "get_car('XUV','SUV')"
   ]
  },
  {
   "cell_type": "code",
   "execution_count": null,
   "metadata": {},
   "outputs": [],
   "source": [
    "# Avoiding argument errors"
   ]
  },
  {
   "cell_type": "code",
   "execution_count": 39,
   "metadata": {},
   "outputs": [],
   "source": [
    "def get_car(car_name, car_type = 'Sedan'): #default value #the last parameter\n",
    "    '''Prints car details'''\n",
    "    print(\"My car name is \" + car_name.title())\n",
    "    print(\"The car type is \" + car_type)"
   ]
  },
  {
   "cell_type": "code",
   "execution_count": 43,
   "metadata": {},
   "outputs": [
    {
     "name": "stdout",
     "output_type": "stream",
     "text": [
      "My car name is Civic\n",
      "The car type is Sedan\n"
     ]
    },
    {
     "data": {
      "text/plain": [
       "NoneType"
      ]
     },
     "execution_count": 43,
     "metadata": {},
     "output_type": "execute_result"
    }
   ],
   "source": [
    "get_car('civic')"
   ]
  },
  {
   "cell_type": "markdown",
   "metadata": {},
   "source": [
    "## Return Values"
   ]
  },
  {
   "cell_type": "code",
   "execution_count": 46,
   "metadata": {},
   "outputs": [],
   "source": [
    "#Return a simple value\n",
    "\n",
    "def get_name(first_name, last_name):\n",
    "    '''Returns Full Name of a User'''\n",
    "    full_name = first_name + ' ' + last_name \n",
    "    \n",
    "    return full_name   "
   ]
  },
  {
   "cell_type": "code",
   "execution_count": 49,
   "metadata": {},
   "outputs": [],
   "source": [
    "full_name = get_name('sameer', 'kumar')"
   ]
  },
  {
   "cell_type": "code",
   "execution_count": 51,
   "metadata": {},
   "outputs": [
    {
     "data": {
      "text/plain": [
       "'sameer kumar'"
      ]
     },
     "execution_count": 51,
     "metadata": {},
     "output_type": "execute_result"
    }
   ],
   "source": [
    "full_name"
   ]
  },
  {
   "cell_type": "code",
   "execution_count": null,
   "metadata": {},
   "outputs": [],
   "source": []
  },
  {
   "cell_type": "code",
   "execution_count": 56,
   "metadata": {},
   "outputs": [],
   "source": [
    "#Optional arguments\n",
    "\n",
    "def get_name(first_name, last_name, middle_name = ''):\n",
    "    '''Returns Full Name of a User'''\n",
    "    if middle_name:\n",
    "        full_name = first_name + ' ' + middle_name + \" \" + last_name\n",
    "    else:\n",
    "        full_name = first_name + ' ' + last_name \n",
    "    \n",
    "    return full_name   "
   ]
  },
  {
   "cell_type": "code",
   "execution_count": 58,
   "metadata": {},
   "outputs": [
    {
     "data": {
      "text/plain": [
       "'sameer mohan kumar'"
      ]
     },
     "execution_count": 58,
     "metadata": {},
     "output_type": "execute_result"
    }
   ],
   "source": [
    "get_name('sameer', 'kumar', middle_name = 'mohan')"
   ]
  },
  {
   "cell_type": "code",
   "execution_count": 63,
   "metadata": {},
   "outputs": [],
   "source": [
    "\n",
    "def get_name(first_name, last_name = '', middle_name = ''):\n",
    "    '''Returns Full Name of a User'''\n",
    "    if middle_name:\n",
    "        full_name = first_name + ' ' + middle_name + \" \" + last_name\n",
    "    elif last_name:\n",
    "        full_name = first_name + ' ' + last_name \n",
    "    else:\n",
    "        full_name = first_name\n",
    "    \n",
    "    return full_name   "
   ]
  },
  {
   "cell_type": "code",
   "execution_count": 64,
   "metadata": {},
   "outputs": [
    {
     "data": {
      "text/plain": [
       "'sameer'"
      ]
     },
     "execution_count": 64,
     "metadata": {},
     "output_type": "execute_result"
    }
   ],
   "source": [
    "get_name('sameer')"
   ]
  },
  {
   "cell_type": "markdown",
   "metadata": {},
   "source": [
    "## Return a dictionary"
   ]
  },
  {
   "cell_type": "code",
   "execution_count": 65,
   "metadata": {},
   "outputs": [],
   "source": [
    "def get_car(car_name, car_type = 'Sedan'): #default value #the last parameter\n",
    "    '''Return a dictionary with car details'''\n",
    "    cars = {'name': car_name, 'type': car_type}\n",
    "    \n",
    "    return cars"
   ]
  },
  {
   "cell_type": "code",
   "execution_count": 67,
   "metadata": {},
   "outputs": [],
   "source": [
    "car1 = get_car('Civic')"
   ]
  },
  {
   "cell_type": "code",
   "execution_count": 68,
   "metadata": {},
   "outputs": [
    {
     "data": {
      "text/plain": [
       "{'name': 'Civic', 'type': 'Sedan'}"
      ]
     },
     "execution_count": 68,
     "metadata": {},
     "output_type": "execute_result"
    }
   ],
   "source": [
    "car1"
   ]
  },
  {
   "cell_type": "code",
   "execution_count": 69,
   "metadata": {},
   "outputs": [],
   "source": [
    "car2 = get_car('Swift', 'Hatchback')"
   ]
  },
  {
   "cell_type": "code",
   "execution_count": 70,
   "metadata": {},
   "outputs": [
    {
     "data": {
      "text/plain": [
       "{'name': 'Swift', 'type': 'Hatchback'}"
      ]
     },
     "execution_count": 70,
     "metadata": {},
     "output_type": "execute_result"
    }
   ],
   "source": [
    "car2"
   ]
  },
  {
   "cell_type": "code",
   "execution_count": null,
   "metadata": {},
   "outputs": [],
   "source": []
  },
  {
   "cell_type": "markdown",
   "metadata": {},
   "source": [
    "## Functions in a While loop"
   ]
  },
  {
   "cell_type": "code",
   "execution_count": 74,
   "metadata": {},
   "outputs": [],
   "source": [
    "def get_car(car_name, car_type):\n",
    "    '''Prints car details'''\n",
    "    print(\"\\nMy car name is \" + car_name.title())\n",
    "    print(\"The car type is \" + car_type + '\\n')"
   ]
  },
  {
   "cell_type": "code",
   "execution_count": 77,
   "metadata": {},
   "outputs": [
    {
     "name": "stdout",
     "output_type": "stream",
     "text": [
      "Enter your car details(name, type): \n",
      "Enter q to exit\n",
      "Car name: swift\n",
      "Car type: hb\n",
      "\n",
      "My car name is Swift\n",
      "The car type is hb\n",
      "\n",
      "Car name: civiv\n",
      "Car type: q\n"
     ]
    }
   ],
   "source": [
    "print(\"Enter your car details(name, type): \")\n",
    "print('Enter q to exit')\n",
    "\n",
    "while True:\n",
    "    \n",
    "    car_name = input('Car name: ')\n",
    "    if car_name == 'q':\n",
    "        break\n",
    "    \n",
    "    car_type = input('Car type: ')\n",
    "    if car_type == 'q':\n",
    "        break\n",
    "    \n",
    "    get_car(car_name, car_type)   #Function call"
   ]
  },
  {
   "cell_type": "markdown",
   "metadata": {},
   "source": [
    "## Passing a List to a Function"
   ]
  },
  {
   "cell_type": "code",
   "execution_count": 89,
   "metadata": {},
   "outputs": [],
   "source": [
    "#One function one task\n",
    "def get_order(orders,cart):\n",
    "    '''Function that gets orders from a user and adds them to the cart'''\n",
    "    while orders:\n",
    "        current_item = orders.pop()\n",
    "    \n",
    "        print(f\"{current_item.title()} has been added to the cart\")\n",
    "        cart.append(current_item)\n",
    "    "
   ]
  },
  {
   "cell_type": "code",
   "execution_count": 98,
   "metadata": {},
   "outputs": [],
   "source": [
    "def show_cart(cart):\n",
    "    '''Prints items present in the cart'''\n",
    "    \n",
    "    for item in cart:\n",
    "        print(item.title())\n",
    "    "
   ]
  },
  {
   "cell_type": "code",
   "execution_count": 104,
   "metadata": {},
   "outputs": [],
   "source": [
    "orders = ['computer', 'mouse', 'speakers']\n",
    "\n",
    "cart = []"
   ]
  },
  {
   "cell_type": "code",
   "execution_count": 100,
   "metadata": {},
   "outputs": [
    {
     "name": "stdout",
     "output_type": "stream",
     "text": [
      "Speakers has been added to the cart\n",
      "Mouse has been added to the cart\n",
      "Computer has been added to the cart\n"
     ]
    }
   ],
   "source": [
    "get_order(orders,cart)"
   ]
  },
  {
   "cell_type": "code",
   "execution_count": 101,
   "metadata": {},
   "outputs": [
    {
     "name": "stdout",
     "output_type": "stream",
     "text": [
      "Speakers\n",
      "Mouse\n",
      "Computer\n"
     ]
    }
   ],
   "source": [
    "show_cart(cart)"
   ]
  },
  {
   "cell_type": "code",
   "execution_count": 102,
   "metadata": {},
   "outputs": [
    {
     "data": {
      "text/plain": [
       "[]"
      ]
     },
     "execution_count": 102,
     "metadata": {},
     "output_type": "execute_result"
    }
   ],
   "source": [
    "orders"
   ]
  },
  {
   "cell_type": "markdown",
   "metadata": {},
   "source": [
    "## Prevent a function from modifying a list     *NOT FOR A LARGE LIST*"
   ]
  },
  {
   "cell_type": "code",
   "execution_count": 105,
   "metadata": {},
   "outputs": [
    {
     "name": "stdout",
     "output_type": "stream",
     "text": [
      "Speakers has been added to the cart\n",
      "Mouse has been added to the cart\n",
      "Computer has been added to the cart\n"
     ]
    }
   ],
   "source": [
    "get_order(orders[:],cart)  #copy of a list"
   ]
  },
  {
   "cell_type": "code",
   "execution_count": 106,
   "metadata": {},
   "outputs": [
    {
     "data": {
      "text/plain": [
       "['computer', 'mouse', 'speakers']"
      ]
     },
     "execution_count": 106,
     "metadata": {},
     "output_type": "execute_result"
    }
   ],
   "source": [
    "orders"
   ]
  },
  {
   "cell_type": "markdown",
   "metadata": {},
   "source": [
    "## Passing arbitrary  number of arguments"
   ]
  },
  {
   "cell_type": "code",
   "execution_count": 123,
   "metadata": {},
   "outputs": [],
   "source": [
    "stock = {'laptop': 35000, 'mouse': 800}"
   ]
  },
  {
   "cell_type": "code",
   "execution_count": 126,
   "metadata": {},
   "outputs": [],
   "source": [
    "def get_item(*items):\n",
    "    \n",
    "    amount = 0\n",
    "    for item in items:\n",
    "        if item in stock:\n",
    "            print(f\"{item} added to the cart\")\n",
    "            amount += stock[item]\n",
    "        else:\n",
    "            print(f\"Sorry the {item} is not available\")\n",
    "            \n",
    "    return amount"
   ]
  },
  {
   "cell_type": "code",
   "execution_count": 130,
   "metadata": {},
   "outputs": [
    {
     "name": "stdout",
     "output_type": "stream",
     "text": [
      "laptop added to the cart\n",
      "mouse added to the cart\n",
      "Sorry the speakers is not available\n"
     ]
    },
    {
     "data": {
      "text/plain": [
       "35800"
      ]
     },
     "execution_count": 130,
     "metadata": {},
     "output_type": "execute_result"
    }
   ],
   "source": [
    "get_item('laptop','mouse', 'speakers')"
   ]
  },
  {
   "cell_type": "code",
   "execution_count": 133,
   "metadata": {},
   "outputs": [],
   "source": [
    "#Mixing positional and arbitrary arguments\n",
    "def get_item(mode,*items):  #positional-keyword-other(arbitrary)\n",
    "    \n",
    "    amount = 0\n",
    "    for item in items:\n",
    "        if item in stock:\n",
    "            print(f\"{item} added to the cart\")\n",
    "            amount += stock[item]\n",
    "        else:\n",
    "            print(f\"Sorry the {item} is not available\")\n",
    "            \n",
    "    print(f'Your payment method is: {mode}')\n",
    "    return amount"
   ]
  },
  {
   "cell_type": "code",
   "execution_count": 132,
   "metadata": {},
   "outputs": [
    {
     "name": "stdout",
     "output_type": "stream",
     "text": [
      "laptop added to the cart\n",
      "mouse added to the cart\n",
      "Sorry the speakers is not available\n",
      "Your payment method is: cash\n"
     ]
    },
    {
     "data": {
      "text/plain": [
       "35800"
      ]
     },
     "execution_count": 132,
     "metadata": {},
     "output_type": "execute_result"
    }
   ],
   "source": [
    "get_item('cash','laptop','mouse', 'speakers')"
   ]
  },
  {
   "cell_type": "markdown",
   "metadata": {},
   "source": [
    "## Using arbitrary keyword arguments"
   ]
  },
  {
   "cell_type": "code",
   "execution_count": 135,
   "metadata": {},
   "outputs": [],
   "source": [
    "def build_profiles(first_name, last_name, **userinfo):  # a dictionary\n",
    "    \n",
    "    profiles = {}\n",
    "    \n",
    "    profiles['first'] = first_name\n",
    "    profiles['last'] = last_name\n",
    "    \n",
    "    for key, value in userinfo.items():\n",
    "        \n",
    "        profiles[key] = value\n",
    "        \n",
    "    return profiles"
   ]
  },
  {
   "cell_type": "code",
   "execution_count": 136,
   "metadata": {},
   "outputs": [
    {
     "data": {
      "text/plain": [
       "{'first': 'sameer', 'last': 'kumar'}"
      ]
     },
     "execution_count": 136,
     "metadata": {},
     "output_type": "execute_result"
    }
   ],
   "source": [
    "build_profiles('sameer', 'kumar')"
   ]
  },
  {
   "cell_type": "code",
   "execution_count": 137,
   "metadata": {},
   "outputs": [
    {
     "data": {
      "text/plain": [
       "{'first': 'sameer', 'last': 'kumar', 'location': 'Delhi', 'age': 29}"
      ]
     },
     "execution_count": 137,
     "metadata": {},
     "output_type": "execute_result"
    }
   ],
   "source": [
    "build_profiles('sameer', 'kumar', location = 'Delhi', age = 29)"
   ]
  },
  {
   "cell_type": "code",
   "execution_count": null,
   "metadata": {},
   "outputs": [],
   "source": []
  }
 ],
 "metadata": {
  "kernelspec": {
   "display_name": "Python 3",
   "language": "python",
   "name": "python3"
  },
  "language_info": {
   "codemirror_mode": {
    "name": "ipython",
    "version": 3
   },
   "file_extension": ".py",
   "mimetype": "text/x-python",
   "name": "python",
   "nbconvert_exporter": "python",
   "pygments_lexer": "ipython3",
   "version": "3.7.4"
  }
 },
 "nbformat": 4,
 "nbformat_minor": 2
}
