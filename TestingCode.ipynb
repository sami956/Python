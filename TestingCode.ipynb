{
 "cells": [
  {
   "cell_type": "markdown",
   "metadata": {},
   "source": [
    "## Testing the code\n",
    "\n",
    " - Ensures that code works as it is supposed to in response to all the input types it is designed to receive\n",
    " - unittest module"
   ]
  },
  {
   "cell_type": "code",
   "execution_count": 21,
   "metadata": {},
   "outputs": [],
   "source": [
    "# Testing the Functions\n",
    "\n",
    "def get_name(first_name, last_name):\n",
    "    '''Generate a neatly formatted fullname.'''\n",
    "    \n",
    "    fullname = first_name + ' ' + last_name\n",
    "    \n",
    "    return fullname.title()"
   ]
  },
  {
   "cell_type": "code",
   "execution_count": 9,
   "metadata": {},
   "outputs": [
    {
     "data": {
      "text/plain": [
       "'Sameer Kumar'"
      ]
     },
     "execution_count": 9,
     "metadata": {},
     "output_type": "execute_result"
    }
   ],
   "source": [
    "get_name('sameer', 'kumar')"
   ]
  },
  {
   "cell_type": "code",
   "execution_count": 6,
   "metadata": {},
   "outputs": [
    {
     "name": "stdout",
     "output_type": "stream",
     "text": [
      "Enter exit to quit\n",
      "Enter your first name: Sameer\n",
      "Enter your last name: Kumar\n",
      "\n",
      "Formatted name: Sameer Kumar\n",
      "Enter your first name: exit\n"
     ]
    }
   ],
   "source": [
    "print('Enter exit to quit')\n",
    "\n",
    "while True:\n",
    "    \n",
    "    first_name = input(\"Enter your first name: \")\n",
    "    if first_name == 'exit':\n",
    "        break\n",
    "        \n",
    "    last_name = input(\"Enter your last name: \")\n",
    "    if last_name == 'exit':\n",
    "        break\n",
    "        \n",
    "    formatted_name = get_name(first_name, last_name)\n",
    "    print('\\nFormatted name: ' + formatted_name)"
   ]
  },
  {
   "cell_type": "markdown",
   "metadata": {},
   "source": [
    "### Unit test\n",
    "\n",
    " - It verifies that one specific aspect of a functions behaviour is correct\n",
    " \n",
    "### Test Case:\n",
    " \n",
    " - It is a collection of unit tests that together prove that a function behaves as it is supposed to be, within full range of situations you expect it to handle\n",
    " \n",
    "### Test Case with Full coverage:\n",
    "\n",
    " - It includes a full range of unit tests covering all the possible ways you can use a function\n"
   ]
  },
  {
   "cell_type": "markdown",
   "metadata": {},
   "source": [
    "## To write a test case\n",
    "\n",
    "  1. Import the unittest module and the function you want to test\n",
    "  \n",
    "  2. Then create a class that inherits from unittest.TestCase\n",
    "  \n",
    "  3. Write a series of methods to test different aspects of a function's behaviour\n",
    "     <br>Imp.- Name of the method(unit test) should start with (test_)"
   ]
  },
  {
   "cell_type": "code",
   "execution_count": 8,
   "metadata": {},
   "outputs": [],
   "source": [
    "import unittest"
   ]
  },
  {
   "cell_type": "code",
   "execution_count": 26,
   "metadata": {},
   "outputs": [],
   "source": [
    "# A Passing Test\n",
    "\n",
    "class NamesTestCase(unittest.TestCase):\n",
    "    \n",
    "    def test_first_last_name(self):\n",
    "        '''Do first and last names work?'''\n",
    "        \n",
    "        formatted_name = get_name('sameer', 'kumar')\n",
    "        self.assertEqual(formatted_name, 'Sameer Kumar')   "
   ]
  },
  {
   "cell_type": "code",
   "execution_count": 27,
   "metadata": {},
   "outputs": [
    {
     "name": "stderr",
     "output_type": "stream",
     "text": [
      ".\n",
      "----------------------------------------------------------------------\n",
      "Ran 1 test in 0.001s\n",
      "\n",
      "OK\n"
     ]
    },
    {
     "data": {
      "text/plain": [
       "<unittest.main.TestProgram at 0x7f8f819ef5d0>"
      ]
     },
     "execution_count": 27,
     "metadata": {},
     "output_type": "execute_result"
    }
   ],
   "source": [
    "unittest.main(argv = [''], exit = False)"
   ]
  },
  {
   "cell_type": "code",
   "execution_count": 14,
   "metadata": {},
   "outputs": [],
   "source": [
    "# A Failing Test"
   ]
  },
  {
   "cell_type": "code",
   "execution_count": 25,
   "metadata": {},
   "outputs": [],
   "source": [
    "def get_name(first_name, last_name, middle_name = ''):\n",
    "    '''Generate a neatly formatted fullname.'''\n",
    "    if middle_name:\n",
    "        fullname = first_name + ' ' + middle_name + ' ' + last_name\n",
    "    else:\n",
    "         fullname = first_name + ' ' + last_name\n",
    "    \n",
    "    return fullname.title()"
   ]
  },
  {
   "cell_type": "code",
   "execution_count": 28,
   "metadata": {},
   "outputs": [],
   "source": [
    "# Adding a new test case\n",
    "\n",
    "class NamesTestCase(unittest.TestCase):\n",
    "    \n",
    "    def test_first_last_name(self):\n",
    "        '''Do first and last names work?'''\n",
    "        \n",
    "        formatted_name = get_name('sameer', 'kumar')\n",
    "        self.assertEqual(formatted_name, 'Sameer Kumar')\n",
    "    \n",
    "    def test_first_last_middle(self):\n",
    "        '''Do first middle and last names work?'''\n",
    "        \n",
    "        formatted_name = get_name('rahul', 'kumar', 'mahesh')\n",
    "        self.assertEqual(formatted_name, 'Rahul Mahesh Kumar')  "
   ]
  },
  {
   "cell_type": "code",
   "execution_count": 29,
   "metadata": {},
   "outputs": [
    {
     "name": "stderr",
     "output_type": "stream",
     "text": [
      "..\n",
      "----------------------------------------------------------------------\n",
      "Ran 2 tests in 0.002s\n",
      "\n",
      "OK\n"
     ]
    },
    {
     "data": {
      "text/plain": [
       "<unittest.main.TestProgram at 0x7f8f81a72710>"
      ]
     },
     "execution_count": 29,
     "metadata": {},
     "output_type": "execute_result"
    }
   ],
   "source": [
    "unittest.main(argv = [''], exit = False)"
   ]
  },
  {
   "cell_type": "code",
   "execution_count": null,
   "metadata": {},
   "outputs": [],
   "source": []
  }
 ],
 "metadata": {
  "kernelspec": {
   "display_name": "Python 3",
   "language": "python",
   "name": "python3"
  },
  "language_info": {
   "codemirror_mode": {
    "name": "ipython",
    "version": 3
   },
   "file_extension": ".py",
   "mimetype": "text/x-python",
   "name": "python",
   "nbconvert_exporter": "python",
   "pygments_lexer": "ipython3",
   "version": "3.7.4"
  }
 },
 "nbformat": 4,
 "nbformat_minor": 2
}
